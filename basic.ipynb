{
 "cells": [
  {
   "cell_type": "code",
   "execution_count": 1,
   "id": "5c6b9309",
   "metadata": {},
   "outputs": [
    {
     "name": "stdout",
     "output_type": "stream",
     "text": [
      "hello world\n"
     ]
    }
   ],
   "source": [
    "print(\"hello world\")"
   ]
  },
  {
   "cell_type": "code",
   "execution_count": 9,
   "id": "5d721223",
   "metadata": {},
   "outputs": [
    {
     "data": {
      "text/plain": [
       "((1, 2, 3), 7, (45, 46, 47), (6, 7, 8), [1, 2, 3, 4], {'1': 1})"
      ]
     },
     "execution_count": 9,
     "metadata": {},
     "output_type": "execute_result"
    }
   ],
   "source": [
    "tp = ((1,2,3), 7, (45,46,47), (6,7,8), [1,2,3,4], {'1':1})\n",
    "tp"
   ]
  },
  {
   "cell_type": "code",
   "execution_count": 10,
   "id": "292ac735",
   "metadata": {},
   "outputs": [
    {
     "name": "stdout",
     "output_type": "stream",
     "text": [
      "[1, 2, 3, 4]\n"
     ]
    }
   ],
   "source": [
    "for i in tp:\n",
    "    if isinstance(i , list):\n",
    "        print(i)"
   ]
  },
  {
   "cell_type": "code",
   "execution_count": 11,
   "id": "3d84c64b",
   "metadata": {},
   "outputs": [
    {
     "name": "stdout",
     "output_type": "stream",
     "text": [
      "{'1': 1}\n"
     ]
    }
   ],
   "source": [
    "for i in tp:\n",
    "    if isinstance(i , dict):\n",
    "        print(i)"
   ]
  },
  {
   "cell_type": "code",
   "execution_count": 12,
   "id": "1886527a",
   "metadata": {},
   "outputs": [
    {
     "data": {
      "text/plain": [
       "'onkar'"
      ]
     },
     "execution_count": 12,
     "metadata": {},
     "output_type": "execute_result"
    }
   ],
   "source": [
    "a = \"onkar\"\n",
    "a"
   ]
  },
  {
   "cell_type": "code",
   "execution_count": 13,
   "id": "5e780fb2",
   "metadata": {},
   "outputs": [
    {
     "data": {
      "text/plain": [
       "'o'"
      ]
     },
     "execution_count": 13,
     "metadata": {},
     "output_type": "execute_result"
    }
   ],
   "source": [
    "a[0]"
   ]
  },
  {
   "cell_type": "code",
   "execution_count": 7,
   "id": "b63b65d6",
   "metadata": {},
   "outputs": [
    {
     "ename": "TypeError",
     "evalue": "'str' object does not support item assignment",
     "output_type": "error",
     "traceback": [
      "\u001b[1;31m---------------------------------------------------------------------------\u001b[0m",
      "\u001b[1;31mTypeError\u001b[0m                                 Traceback (most recent call last)",
      "\u001b[1;32mC:\\Users\\PIYUSH~1\\AppData\\Local\\Temp/ipykernel_19852/2053633330.py\u001b[0m in \u001b[0;36m<module>\u001b[1;34m\u001b[0m\n\u001b[1;32m----> 1\u001b[1;33m \u001b[0ma\u001b[0m\u001b[1;33m[\u001b[0m\u001b[1;36m0\u001b[0m\u001b[1;33m]\u001b[0m\u001b[1;33m=\u001b[0m\u001b[1;34m\"p\"\u001b[0m\u001b[1;33m\u001b[0m\u001b[1;33m\u001b[0m\u001b[0m\n\u001b[0m\u001b[0;32m      2\u001b[0m \u001b[0ma\u001b[0m\u001b[1;33m\u001b[0m\u001b[1;33m\u001b[0m\u001b[0m\n",
      "\u001b[1;31mTypeError\u001b[0m: 'str' object does not support item assignment"
     ]
    }
   ],
   "source": [
    "# we cant access or change inside string i.e.(immutable)\n",
    "\n",
    "a[0]=\"p\"  \n",
    "a"
   ]
  },
  {
   "cell_type": "code",
   "execution_count": 8,
   "id": "2c5f9ef4",
   "metadata": {},
   "outputs": [
    {
     "data": {
      "text/plain": [
       "[0, 1, 2]"
      ]
     },
     "execution_count": 8,
     "metadata": {},
     "output_type": "execute_result"
    }
   ],
   "source": [
    "list=[0,1,2]\n",
    "list\n"
   ]
  },
  {
   "cell_type": "code",
   "execution_count": 9,
   "id": "741d7850",
   "metadata": {},
   "outputs": [
    {
     "data": {
      "text/plain": [
       "[10, 1, 2]"
      ]
     },
     "execution_count": 9,
     "metadata": {},
     "output_type": "execute_result"
    }
   ],
   "source": [
    "# list can be changed (mutable)\n",
    "\n",
    "list[0]=10\n",
    "list"
   ]
  },
  {
   "cell_type": "code",
   "execution_count": 15,
   "id": "bc07f7fa",
   "metadata": {},
   "outputs": [
    {
     "data": {
      "text/plain": [
       "{'a': 1, 'b': 2}"
      ]
     },
     "execution_count": 15,
     "metadata": {},
     "output_type": "execute_result"
    }
   ],
   "source": [
    "dict={\"a\":1, \"b\":2}\n",
    "dict\n"
   ]
  },
  {
   "cell_type": "code",
   "execution_count": 16,
   "id": "2974ae76",
   "metadata": {},
   "outputs": [
    {
     "ename": "KeyError",
     "evalue": "'onkar'",
     "output_type": "error",
     "traceback": [
      "\u001b[1;31m---------------------------------------------------------------------------\u001b[0m",
      "\u001b[1;31mKeyError\u001b[0m                                  Traceback (most recent call last)",
      "\u001b[1;32mC:\\Users\\PIYUSH~1\\AppData\\Local\\Temp/ipykernel_17532/3467507786.py\u001b[0m in \u001b[0;36m<module>\u001b[1;34m\u001b[0m\n\u001b[1;32m----> 1\u001b[1;33m \u001b[0mdict\u001b[0m\u001b[1;33m[\u001b[0m\u001b[0ma\u001b[0m\u001b[1;33m]\u001b[0m\u001b[1;33m\u001b[0m\u001b[1;33m\u001b[0m\u001b[0m\n\u001b[0m",
      "\u001b[1;31mKeyError\u001b[0m: 'onkar'"
     ]
    }
   ],
   "source": [
    "dict[a]"
   ]
  },
  {
   "cell_type": "code",
   "execution_count": 17,
   "id": "fe5288dc",
   "metadata": {},
   "outputs": [
    {
     "data": {
      "text/plain": [
       "1"
      ]
     },
     "execution_count": 17,
     "metadata": {},
     "output_type": "execute_result"
    }
   ],
   "source": [
    "dict['a']"
   ]
  },
  {
   "cell_type": "code",
   "execution_count": 21,
   "id": "f16e0bc0",
   "metadata": {},
   "outputs": [
    {
     "data": {
      "text/plain": [
       "{'a': 'LKJ', 'b': 2}"
      ]
     },
     "execution_count": 21,
     "metadata": {},
     "output_type": "execute_result"
    }
   ],
   "source": [
    "dict['a'] = \"LKJ\"\n",
    "dict"
   ]
  },
  {
   "cell_type": "code",
   "execution_count": null,
   "id": "0345ce2d",
   "metadata": {},
   "outputs": [],
   "source": []
  },
  {
   "cell_type": "code",
   "execution_count": 28,
   "id": "6c9ba41c",
   "metadata": {},
   "outputs": [
    {
     "name": "stdout",
     "output_type": "stream",
     "text": [
      "hello\n"
     ]
    }
   ],
   "source": [
    "print(\"hello\")"
   ]
  },
  {
   "cell_type": "code",
   "execution_count": 216,
   "id": "d578c45f",
   "metadata": {},
   "outputs": [
    {
     "name": "stdout",
     "output_type": "stream",
     "text": [
      "1.Create employee records\n",
      "2.Update employee details\n",
      "3.Delete employee record\n",
      "4.Display\n",
      "5.Exit\n",
      "Enter your choice :5\n"
     ]
    }
   ],
   "source": [
    "emp_info = {}\n",
    "\n",
    "while True:\n",
    "    print(\"1.Create employee records\")\n",
    "    print(\"2.Update employee details\")\n",
    "    print(\"3.Delete employee record\")\n",
    "    print(\"4.Display\")\n",
    "    print(\"5.Exit\")\n",
    "    ch = int(input(\"Enter your choice :\"))\n",
    "    if ch == 1:\n",
    "        name = input(\"Enter employee name:\")\n",
    "        emp_id = int(input(\"Enter employee ID:\"))\n",
    "        ph = input(\"Enter phone number\")\n",
    "        tech = input(\"Technologies[comma separated e.g. C++, python, java]\")\n",
    "        emp_info[emp_id] = {\"name\":name, \"phone\":ph, \"tech\":tech.split(',')}\n",
    "    \n",
    "    elif ch == 2:\n",
    "        who = int(input(\"Whose details you want to update ?, Enter the emp_id\"))\n",
    "        rec = emp_info[who]\n",
    "        for field, value in rec.items():\n",
    "            new = input('{}({})'.format(field, value))\n",
    "            if new == '':\n",
    "                emp_info[who][field] = value \n",
    "            else:\n",
    "                emp_info[who][field] = new\n",
    "            \n",
    "    elif ch == 3:\n",
    "        x = int(input(\"Enter the employee id whom you want to delete :\"))\n",
    "        if x in emp_info:\n",
    "             del emp_info[x]\n",
    "        else:\n",
    "            print(\"Employee id not present...\")\n",
    "    \n",
    "    elif ch == 4:\n",
    "        print(emp_info)\n",
    "    \n",
    "    else:\n",
    "        break"
   ]
  },
  {
   "cell_type": "code",
   "execution_count": 217,
   "id": "03304f36",
   "metadata": {},
   "outputs": [
    {
     "name": "stdout",
     "output_type": "stream",
     "text": [
      "[0, 1, 2, 3, 4, 5, 6, 7, 8, 9]\n"
     ]
    }
   ],
   "source": [
    "l = list\n",
    "for i in range(10):\n",
    "    l.append(i)\n",
    "print(l)"
   ]
  },
  {
   "cell_type": "code",
   "execution_count": 218,
   "id": "dfd9a5d3",
   "metadata": {},
   "outputs": [
    {
     "name": "stdout",
     "output_type": "stream",
     "text": [
      "[0, 1, 2, 3, 4, 5, 6, 7, 8, 9]\n"
     ]
    }
   ],
   "source": [
    "list = []\n",
    "l = list\n",
    "for i in range(10):\n",
    "    l.append(i)\n",
    "print(l)"
   ]
  },
  {
   "cell_type": "code",
   "execution_count": 219,
   "id": "add1e66f",
   "metadata": {},
   "outputs": [
    {
     "data": {
      "text/plain": [
       "[0, 1, 2, 3, 4, 5, 6, 7, 8, 9]"
      ]
     },
     "execution_count": 219,
     "metadata": {},
     "output_type": "execute_result"
    }
   ],
   "source": [
    "[x for x in range(10)]"
   ]
  },
  {
   "cell_type": "code",
   "execution_count": 34,
   "id": "c05cd760",
   "metadata": {},
   "outputs": [
    {
     "data": {
      "text/plain": [
       "[0, 2, 4, 6, 8]"
      ]
     },
     "execution_count": 34,
     "metadata": {},
     "output_type": "execute_result"
    }
   ],
   "source": [
    "[x for x in range(10) if x%2 == 0]"
   ]
  },
  {
   "cell_type": "code",
   "execution_count": 36,
   "id": "bc5ce374",
   "metadata": {},
   "outputs": [
    {
     "name": "stdout",
     "output_type": "stream",
     "text": [
      "Enter the Index for which you wnt to see square : 4\n",
      "64\n"
     ]
    }
   ],
   "source": [
    "n = [1,2,3,4,5,6,7,8]\n",
    "\n",
    "num = int(input(\"Enter the Index for which you wnt to see square : \"))\n",
    "squares = []\n",
    "for num in n:\n",
    "    squares.append(num**2)\n",
    "idx_pos= n.index(num)\n",
    "print(squares[idx_pos])"
   ]
  },
  {
   "cell_type": "code",
   "execution_count": null,
   "id": "e5b8b151",
   "metadata": {},
   "outputs": [],
   "source": []
  },
  {
   "cell_type": "code",
   "execution_count": null,
   "id": "2d712bb7",
   "metadata": {},
   "outputs": [],
   "source": []
  },
  {
   "cell_type": "code",
   "execution_count": 28,
   "id": "ec80e9df",
   "metadata": {},
   "outputs": [
    {
     "name": "stdout",
     "output_type": "stream",
     "text": [
      "Enter the Index for which you wnt to see square : 3\n",
      "9\n"
     ]
    }
   ],
   "source": [
    "num = int(input(\"Enter the Index for which you wnt to see square : \"))\n",
    "sq = [num**2 for num in n]\n",
    "idx_pos= n.index(num)\n",
    "print(sq[idx_pos])\n"
   ]
  },
  {
   "cell_type": "code",
   "execution_count": 44,
   "id": "7f94059a",
   "metadata": {},
   "outputs": [
    {
     "data": {
      "text/plain": [
       "{1: 1, 2: 4, 3: 9, 4: 16, 5: 25}"
      ]
     },
     "execution_count": 44,
     "metadata": {},
     "output_type": "execute_result"
    }
   ],
   "source": [
    "{k:k**2 for k in range(1,6)}"
   ]
  },
  {
   "cell_type": "code",
   "execution_count": 45,
   "id": "3480e00c",
   "metadata": {},
   "outputs": [
    {
     "data": {
      "text/plain": [
       "(45, 77, 109, 'data', ['raj', 'rohan'])"
      ]
     },
     "execution_count": 45,
     "metadata": {},
     "output_type": "execute_result"
    }
   ],
   "source": [
    "#convert tuple to dict:\n",
    "#{0:45, 1:77, 2:109, 4:data, 5:[]}\n",
    "\n",
    "tp = (45, 77, 109, 'data', ['raj','rohan'])\n",
    "tp"
   ]
  },
  {
   "cell_type": "code",
   "execution_count": 46,
   "id": "58d96d3c",
   "metadata": {},
   "outputs": [
    {
     "data": {
      "text/plain": [
       "{0: 45, 1: 77, 2: 109, 3: 'data', 4: ['raj', 'rohan']}"
      ]
     },
     "execution_count": 46,
     "metadata": {},
     "output_type": "execute_result"
    }
   ],
   "source": [
    "{k:tp[k] for k in range(len(tp))}"
   ]
  },
  {
   "cell_type": "code",
   "execution_count": 47,
   "id": "4f0911b5",
   "metadata": {},
   "outputs": [
    {
     "data": {
      "text/plain": [
       "{0: 45, 1: 77, 2: 109, 3: 'data', 4: ['raj', 'rohan']}"
      ]
     },
     "execution_count": 47,
     "metadata": {},
     "output_type": "execute_result"
    }
   ],
   "source": [
    "#another logic for above\n",
    "\n",
    "{tp.index(v):v for v in tp}"
   ]
  },
  {
   "cell_type": "code",
   "execution_count": 54,
   "id": "e05384c7",
   "metadata": {},
   "outputs": [
    {
     "data": {
      "text/plain": [
       "{0: 45, 1: 77, 2: 109, 3: 'data', 4: ['raj', 'rohan']}"
      ]
     },
     "execution_count": 54,
     "metadata": {},
     "output_type": "execute_result"
    }
   ],
   "source": [
    "{k:tp[k] for k in range(len(tp))}"
   ]
  },
  {
   "cell_type": "code",
   "execution_count": 49,
   "id": "85adb614",
   "metadata": {},
   "outputs": [
    {
     "data": {
      "text/plain": [
       "(45, 77, 109, 'data', ['raj', 'rohan'])"
      ]
     },
     "execution_count": 49,
     "metadata": {},
     "output_type": "execute_result"
    }
   ],
   "source": [
    "tp"
   ]
  },
  {
   "cell_type": "code",
   "execution_count": 50,
   "id": "ec15730d",
   "metadata": {},
   "outputs": [
    {
     "data": {
      "text/plain": [
       "(['raj', 'rohan'], 'data', 109, 77, 45)"
      ]
     },
     "execution_count": 50,
     "metadata": {},
     "output_type": "execute_result"
    }
   ],
   "source": [
    "tp[::-1]"
   ]
  },
  {
   "cell_type": "code",
   "execution_count": null,
   "id": "a5f1ca3b",
   "metadata": {},
   "outputs": [],
   "source": [
    "lst=[1,2,3,3,3,4,4,5,5,6,7,7,7,]\n"
   ]
  },
  {
   "cell_type": "code",
   "execution_count": 57,
   "id": "c7288c84",
   "metadata": {},
   "outputs": [
    {
     "data": {
      "text/plain": [
       "{2, 4, 6, 7, 8, 88, 90, 91, 92, 100}"
      ]
     },
     "execution_count": 57,
     "metadata": {},
     "output_type": "execute_result"
    }
   ],
   "source": [
    "s = {2,4,6,7,8,88,90,91,92,100}\n",
    "s"
   ]
  },
  {
   "cell_type": "code",
   "execution_count": 59,
   "id": "f6c30c9a",
   "metadata": {},
   "outputs": [
    {
     "data": {
      "text/plain": [
       "{0, 1, 2, 3, 4, 5, 6, 7, 8, 9}"
      ]
     },
     "execution_count": 59,
     "metadata": {},
     "output_type": "execute_result"
    }
   ],
   "source": [
    "s1 = {1,2,3,4,5,6,7}\n",
    "s2 = {5,6,7,8,9,0}\n",
    "\n",
    "s1.union(s2)"
   ]
  },
  {
   "cell_type": "code",
   "execution_count": 60,
   "id": "727ef6ca",
   "metadata": {},
   "outputs": [
    {
     "data": {
      "text/plain": [
       "{1, 2, 3, 4}"
      ]
     },
     "execution_count": 60,
     "metadata": {},
     "output_type": "execute_result"
    }
   ],
   "source": [
    "s1.difference(s2)"
   ]
  },
  {
   "cell_type": "code",
   "execution_count": 61,
   "id": "6084b3d5",
   "metadata": {},
   "outputs": [
    {
     "data": {
      "text/plain": [
       "{0, 8, 9}"
      ]
     },
     "execution_count": 61,
     "metadata": {},
     "output_type": "execute_result"
    }
   ],
   "source": [
    "s2.difference(s1)"
   ]
  },
  {
   "cell_type": "code",
   "execution_count": null,
   "id": "37f2643b",
   "metadata": {},
   "outputs": [],
   "source": [
    "#keyword import,while,break,if\n",
    "#string\n",
    "#list\n",
    "#dict\n",
    "#set"
   ]
  },
  {
   "cell_type": "code",
   "execution_count": null,
   "id": "93d2d5e2",
   "metadata": {},
   "outputs": [],
   "source": [
    "# user defined funct.\n",
    "# Instaead of writing same thing again n again we can write function and call it \n",
    "\n",
    "def greeting():\n",
    "    print(\"hello\")\n",
    "    print(\"welcome to python\")\n",
    "    print(\"i am susy\")"
   ]
  },
  {
   "cell_type": "code",
   "execution_count": 64,
   "id": "2ca908be",
   "metadata": {},
   "outputs": [
    {
     "name": "stdout",
     "output_type": "stream",
     "text": [
      "hello\n",
      "welcome to python\n",
      "i am susy\n"
     ]
    }
   ],
   "source": [
    "def greeting():\n",
    "    print(\"hello\")\n",
    "    print(\"welcome to python\")\n",
    "    print(\"i am susy\")\n",
    "\n",
    "greeting()"
   ]
  },
  {
   "cell_type": "raw",
   "id": "6e4f6527",
   "metadata": {},
   "source": [
    "\n"
   ]
  },
  {
   "cell_type": "code",
   "execution_count": 65,
   "id": "98f51b6d",
   "metadata": {},
   "outputs": [
    {
     "name": "stdout",
     "output_type": "stream",
     "text": [
      "hello\n",
      "welcome to python\n",
      "i am susy\n"
     ]
    }
   ],
   "source": [
    "greeting()"
   ]
  },
  {
   "cell_type": "code",
   "execution_count": 73,
   "id": "d66fce4a",
   "metadata": {},
   "outputs": [
    {
     "name": "stdout",
     "output_type": "stream",
     "text": [
      "hello piyush\n",
      "welcome to python\n",
      "YOUR age is 23\n"
     ]
    }
   ],
   "source": [
    "def greeting(name, age):\n",
    "    print(\"hello %s\" % name)\n",
    "    print(\"welcome to python\")\n",
    "    print(\"YOUR age is %s\" % age)\n",
    "\n",
    "greeting(\"piyush\",23)"
   ]
  },
  {
   "cell_type": "code",
   "execution_count": 80,
   "id": "59d1763a",
   "metadata": {},
   "outputs": [
    {
     "name": "stdout",
     "output_type": "stream",
     "text": [
      "hello 23\n",
      "welcome to python\n",
      "YOUR age is 23\n"
     ]
    }
   ],
   "source": [
    "greeting(23,23)"
   ]
  },
  {
   "cell_type": "code",
   "execution_count": null,
   "id": "b8c8c6d1",
   "metadata": {},
   "outputs": [],
   "source": [
    "def xyz():\n",
    "    \"\"\"\n",
    "    This function is made by XYZ people\n",
    "    \"\"\"\n",
    "    pass\n"
   ]
  },
  {
   "cell_type": "code",
   "execution_count": 87,
   "id": "db40dce8",
   "metadata": {},
   "outputs": [
    {
     "name": "stdout",
     "output_type": "stream",
     "text": [
      "Help on function xyz in module __main__:\n",
      "\n",
      "xyz()\n",
      "    This function is made by XYZ people\n",
      "\n"
     ]
    }
   ],
   "source": [
    "help(xyz)"
   ]
  },
  {
   "cell_type": "code",
   "execution_count": 98,
   "id": "3f0de88d",
   "metadata": {},
   "outputs": [
    {
     "name": "stdout",
     "output_type": "stream",
     "text": [
      "Hello jhon\n",
      "Welcome to python\n",
      "age 24\n"
     ]
    }
   ],
   "source": [
    "def greeting(name='',age=24):\n",
    "    \"\"\"\n",
    "    this function is used to greet people\"\"\"\n",
    "    print(\"Hello {}\".format(name))\n",
    "    print(\"Welcome to python\")\n",
    "    if isinstance(age,(int,float)):\n",
    "        print(\"age\",age)\n",
    "        \n",
    "greeting(name=\"jhon\")"
   ]
  },
  {
   "cell_type": "code",
   "execution_count": 100,
   "id": "84c614bf",
   "metadata": {},
   "outputs": [
    {
     "name": "stdout",
     "output_type": "stream",
     "text": [
      "Hello jhon\n",
      "Welcome to python\n",
      "age 24\n"
     ]
    }
   ],
   "source": [
    "def greeting(name='',age=24):\n",
    "    \"\"\"\n",
    "    this function is used to greet people\"\"\"\n",
    "    print(\"Hello %s\"%name)\n",
    "    print(\"Welcome to python\")\n",
    "    if isinstance(age,(int,float)):\n",
    "        print(\"age\",age)\n",
    "        \n",
    "greeting(name=\"jhon\")"
   ]
  },
  {
   "cell_type": "code",
   "execution_count": 104,
   "id": "63ceb05e",
   "metadata": {},
   "outputs": [
    {
     "name": "stdout",
     "output_type": "stream",
     "text": [
      "Hello jhon\n",
      "Welcome to python\n",
      "age 30\n"
     ]
    }
   ],
   "source": [
    "greeting(\"jhon\",30)"
   ]
  },
  {
   "cell_type": "code",
   "execution_count": 105,
   "id": "4d443800",
   "metadata": {},
   "outputs": [
    {
     "ename": "SyntaxError",
     "evalue": "positional argument follows keyword argument (Temp/ipykernel_19852/3712816671.py, line 1)",
     "output_type": "error",
     "traceback": [
      "\u001b[1;36m  File \u001b[1;32m\"C:\\Users\\PIYUSH~1\\AppData\\Local\\Temp/ipykernel_19852/3712816671.py\"\u001b[1;36m, line \u001b[1;32m1\u001b[0m\n\u001b[1;33m    greeting(name=\"jhon\",30)\u001b[0m\n\u001b[1;37m                           ^\u001b[0m\n\u001b[1;31mSyntaxError\u001b[0m\u001b[1;31m:\u001b[0m positional argument follows keyword argument\n"
     ]
    }
   ],
   "source": [
    "greeting(name=\"jhon\",30)"
   ]
  },
  {
   "cell_type": "code",
   "execution_count": 106,
   "id": "8a30b05f",
   "metadata": {},
   "outputs": [
    {
     "name": "stdout",
     "output_type": "stream",
     "text": [
      "Hello jhon\n",
      "Welcome to python\n",
      "age 30\n"
     ]
    }
   ],
   "source": [
    "greeting(\"jhon\",age=30)"
   ]
  },
  {
   "cell_type": "code",
   "execution_count": null,
   "id": "43fc27d4",
   "metadata": {},
   "outputs": [],
   "source": [
    "# Always keyword arguments comes after positional arg"
   ]
  },
  {
   "cell_type": "code",
   "execution_count": 107,
   "id": "d6b28710",
   "metadata": {},
   "outputs": [
    {
     "name": "stdout",
     "output_type": "stream",
     "text": [
      "Hello 30\n",
      "Welcome to python\n"
     ]
    }
   ],
   "source": [
    "greeting(30,\"jhon\")     #here jhon is not int or float"
   ]
  },
  {
   "cell_type": "code",
   "execution_count": 109,
   "id": "751b8e5d",
   "metadata": {},
   "outputs": [
    {
     "name": "stdout",
     "output_type": "stream",
     "text": [
      "Hello jhon\n",
      "Welcome to python\n",
      "age 30\n"
     ]
    }
   ],
   "source": [
    "greeting(age=30,name=\"jhon\")"
   ]
  },
  {
   "cell_type": "code",
   "execution_count": null,
   "id": "8f304a5b",
   "metadata": {},
   "outputs": [],
   "source": [
    "####################################################"
   ]
  },
  {
   "cell_type": "code",
   "execution_count": null,
   "id": "bf188bce",
   "metadata": {},
   "outputs": [],
   "source": [
    "# args is used when user dontknw that how many parameter are there in function ?"
   ]
  },
  {
   "cell_type": "code",
   "execution_count": 112,
   "id": "ebf180a1",
   "metadata": {},
   "outputs": [
    {
     "name": "stdout",
     "output_type": "stream",
     "text": [
      "name john\n",
      "args ('IT', 'Mumbai')\n",
      "phone 1111\n",
      "address mum\n"
     ]
    }
   ],
   "source": [
    "def get_data(name, *args, phone=\"0000\", address=\"pune\"):\n",
    "    print(\"name\",name)\n",
    "    print(\"args\",args)\n",
    "    print(\"phone\",phone)\n",
    "    print(\"address\",address)\n",
    "\n",
    "get_data('john','IT',\"Mumbai\",phone = '1111',address='mum')"
   ]
  },
  {
   "cell_type": "code",
   "execution_count": 113,
   "id": "4070b5e4",
   "metadata": {},
   "outputs": [
    {
     "name": "stdout",
     "output_type": "stream",
     "text": [
      "name john\n",
      "args ('IT', 'Mumbai')\n",
      "kwargs {'phone': '1111', 'address': 'mum'}\n"
     ]
    }
   ],
   "source": [
    "def get_data(name, *args, **kwargs):\n",
    "    print(\"name\",name)\n",
    "    print(\"args\",args)\n",
    "    print(\"kwargs\",kwargs)\n",
    "  \n",
    "get_data('john','IT',\"Mumbai\",phone = '1111',address='mum')"
   ]
  },
  {
   "cell_type": "code",
   "execution_count": 115,
   "id": "a72cbfc3",
   "metadata": {},
   "outputs": [
    {
     "name": "stdout",
     "output_type": "stream",
     "text": [
      "name john\n",
      "args ('IT', 'Mumbai')\n",
      "phone 1111\n"
     ]
    }
   ],
   "source": [
    "def get_data(name, *args, **kwargs):\n",
    "    print(\"name\",name)\n",
    "    print(\"args\",args)\n",
    "    print(\"phone\",kwargs['phone'])\n",
    "    \n",
    "    \n",
    "get_data('john','IT',\"Mumbai\",phone = '1111',address='mum')"
   ]
  },
  {
   "cell_type": "code",
   "execution_count": null,
   "id": "ebaadab2",
   "metadata": {},
   "outputs": [],
   "source": [
    " 0\n",
    "/|\\\n",
    "/ \\"
   ]
  },
  {
   "cell_type": "code",
   "execution_count": 118,
   "id": "794678da",
   "metadata": {},
   "outputs": [
    {
     "name": "stdout",
     "output_type": "stream",
     "text": [
      "enter N : 4\n",
      "1\n",
      "2\n",
      "3\n",
      "4\n"
     ]
    }
   ],
   "source": [
    "n = int(input(\"enter N : \"))\n",
    "for i in range(1,n+1):\n",
    "    print(i)"
   ]
  },
  {
   "cell_type": "code",
   "execution_count": null,
   "id": "8f18d88e",
   "metadata": {},
   "outputs": [],
   "source": [
    "# lamda funct are anonymous functions\n",
    "# define ---> lambda args:expression"
   ]
  },
  {
   "cell_type": "code",
   "execution_count": 244,
   "id": "fed3003a",
   "metadata": {},
   "outputs": [
    {
     "data": {
      "text/plain": [
       "25"
      ]
     },
     "execution_count": 244,
     "metadata": {},
     "output_type": "execute_result"
    }
   ],
   "source": [
    "x = lambda x:x**2\n",
    "x(5)"
   ]
  },
  {
   "cell_type": "code",
   "execution_count": 2,
   "id": "da26b89e",
   "metadata": {},
   "outputs": [
    {
     "data": {
      "text/plain": [
       "['PYTHON', 'IS', 'COOL']"
      ]
     },
     "execution_count": 2,
     "metadata": {},
     "output_type": "execute_result"
    }
   ],
   "source": [
    "list(map(str.upper, ['python','is','cool']))"
   ]
  },
  {
   "cell_type": "code",
   "execution_count": 132,
   "id": "ea2c0f07",
   "metadata": {},
   "outputs": [
    {
     "name": "stdout",
     "output_type": "stream",
     "text": [
      "PYTHON\n",
      "IS\n",
      "COOL\n"
     ]
    }
   ],
   "source": [
    "for w in ['python','is','cool']:\n",
    "    print(w.upper())"
   ]
  },
  {
   "cell_type": "code",
   "execution_count": null,
   "id": "263aaf22",
   "metadata": {},
   "outputs": [],
   "source": [
    "def outer():\n",
    "    i=8\n",
    "    j=10\n",
    "    def inner():\n",
    "        print(i)\n",
    "        print(\"i am inner funct\")\n",
    "    def inner2():\n",
    "        print(\"secnd inner\")\n",
    "    inner()\n",
    "    inner2()\n",
    "    return inner, inner2"
   ]
  },
  {
   "cell_type": "code",
   "execution_count": 162,
   "id": "aeb82f6c",
   "metadata": {},
   "outputs": [
    {
     "name": "stdout",
     "output_type": "stream",
     "text": [
      "8\n",
      "i am inner funct\n",
      "secnd inner\n"
     ]
    }
   ],
   "source": [
    "p = outer()"
   ]
  },
  {
   "cell_type": "code",
   "execution_count": 163,
   "id": "0f523fbb",
   "metadata": {},
   "outputs": [
    {
     "data": {
      "text/plain": [
       "(<function __main__.outer.<locals>.inner()>,\n",
       " <function __main__.outer.<locals>.inner2()>)"
      ]
     },
     "execution_count": 163,
     "metadata": {},
     "output_type": "execute_result"
    }
   ],
   "source": [
    "p"
   ]
  },
  {
   "cell_type": "code",
   "execution_count": 166,
   "id": "0b5fd535",
   "metadata": {},
   "outputs": [],
   "source": [
    "def outer(f): #2\n",
    "    def inner(): #4\n",
    "        result=f() #5\n",
    "        return result**2\n",
    "    return inner #3"
   ]
  },
  {
   "cell_type": "code",
   "execution_count": 167,
   "id": "bc582a0f",
   "metadata": {},
   "outputs": [],
   "source": [
    "def num():\n",
    "    return 5"
   ]
  },
  {
   "cell_type": "code",
   "execution_count": 168,
   "id": "2e07208c",
   "metadata": {},
   "outputs": [],
   "source": [
    "r = outer(num)"
   ]
  },
  {
   "cell_type": "code",
   "execution_count": 169,
   "id": "d35f9295",
   "metadata": {},
   "outputs": [
    {
     "data": {
      "text/plain": [
       "<function __main__.outer.<locals>.inner()>"
      ]
     },
     "execution_count": 169,
     "metadata": {},
     "output_type": "execute_result"
    }
   ],
   "source": [
    "r "
   ]
  },
  {
   "cell_type": "code",
   "execution_count": 173,
   "id": "5e6a9f89",
   "metadata": {},
   "outputs": [
    {
     "data": {
      "text/plain": [
       "25"
      ]
     },
     "execution_count": 173,
     "metadata": {},
     "output_type": "execute_result"
    }
   ],
   "source": [
    "r()"
   ]
  },
  {
   "cell_type": "code",
   "execution_count": 176,
   "id": "3936b2a5",
   "metadata": {},
   "outputs": [],
   "source": [
    "@outer\n",
    "def num():\n",
    "    return 5"
   ]
  },
  {
   "cell_type": "code",
   "execution_count": 178,
   "id": "6d9e22f5",
   "metadata": {},
   "outputs": [
    {
     "data": {
      "text/plain": [
       "25"
      ]
     },
     "execution_count": 178,
     "metadata": {},
     "output_type": "execute_result"
    }
   ],
   "source": [
    "num()"
   ]
  },
  {
   "cell_type": "code",
   "execution_count": 184,
   "id": "3aba6e6d",
   "metadata": {},
   "outputs": [],
   "source": [
    "def validate(func):\n",
    "    def validator(*args,**kwargs):\n",
    "        if len(args)>1:\n",
    "            if args[1]==0:\n",
    "                print(\"we are expecting a non zero number\")\n",
    "                return None\n",
    "            else:\n",
    "                power = func(args[0], args[1])\n",
    "                return power\n",
    "        else:\n",
    "            print('invalid args')\n",
    "    return validator"
   ]
  },
  {
   "cell_type": "code",
   "execution_count": null,
   "id": "736c09dd",
   "metadata": {},
   "outputs": [],
   "source": []
  },
  {
   "cell_type": "code",
   "execution_count": 185,
   "id": "93bfec04",
   "metadata": {},
   "outputs": [],
   "source": [
    "import math"
   ]
  },
  {
   "cell_type": "code",
   "execution_count": null,
   "id": "fc41538e",
   "metadata": {},
   "outputs": [],
   "source": []
  },
  {
   "cell_type": "code",
   "execution_count": 186,
   "id": "2d89065c",
   "metadata": {},
   "outputs": [],
   "source": [
    "@validate\n",
    "def mypower(x,y):\n",
    "    return math.pow(x,y)"
   ]
  },
  {
   "cell_type": "code",
   "execution_count": 187,
   "id": "173432cb",
   "metadata": {},
   "outputs": [
    {
     "data": {
      "text/plain": [
       "100.0"
      ]
     },
     "execution_count": 187,
     "metadata": {},
     "output_type": "execute_result"
    }
   ],
   "source": [
    "mypower(10,2)"
   ]
  },
  {
   "cell_type": "code",
   "execution_count": 188,
   "id": "e84c83a7",
   "metadata": {},
   "outputs": [
    {
     "name": "stdout",
     "output_type": "stream",
     "text": [
      "we are expecting a non zero number\n"
     ]
    }
   ],
   "source": [
    "mypower(10,0)"
   ]
  },
  {
   "cell_type": "code",
   "execution_count": null,
   "id": "3fa88c79",
   "metadata": {},
   "outputs": [],
   "source": []
  },
  {
   "cell_type": "code",
   "execution_count": 3,
   "id": "234ea03e",
   "metadata": {},
   "outputs": [
    {
     "data": {
      "text/plain": [
       "[2, 4, 6, 8]"
      ]
     },
     "execution_count": 3,
     "metadata": {},
     "output_type": "execute_result"
    }
   ],
   "source": [
    "list(filter(lambda x: x%2==0, [1,2,3,4,5,6,7,8,9]))"
   ]
  },
  {
   "cell_type": "code",
   "execution_count": null,
   "id": "82079e0d",
   "metadata": {},
   "outputs": [],
   "source": []
  },
  {
   "cell_type": "code",
   "execution_count": null,
   "id": "f6ba5420",
   "metadata": {},
   "outputs": [],
   "source": []
  },
  {
   "cell_type": "code",
   "execution_count": null,
   "id": "cd7909cc",
   "metadata": {
    "scrolled": false
   },
   "outputs": [],
   "source": []
  },
  {
   "cell_type": "code",
   "execution_count": 202,
   "id": "f86a9ca3",
   "metadata": {},
   "outputs": [
    {
     "name": "stdout",
     "output_type": "stream",
     "text": [
      "positional arguments are (10, 20, 30)\n",
      "the keyword arguments are {}\n",
      "10 20 30\n"
     ]
    }
   ],
   "source": [
    "# passing positional arguments to the decorators\n",
    "def accept_the_arguments(function_to_decorator): #3\n",
    "    def inner_function(*args, **kwargs): #5\n",
    "        print(\"positional arguments are\", args)\n",
    "        print(\"the keyword arguments are\", kwargs)\n",
    "        function_to_decorator(*args)\n",
    "    return inner_function #4\n",
    "\n",
    "@accept_the_arguments #2\n",
    "def function_with_args(a,b,c): #1\n",
    "    print(a,b,c)\n",
    "    \n",
    "function_with_args(10,20,30)"
   ]
  },
  {
   "cell_type": "code",
   "execution_count": null,
   "id": "590e4b80",
   "metadata": {},
   "outputs": [],
   "source": []
  },
  {
   "cell_type": "code",
   "execution_count": 204,
   "id": "c540c085",
   "metadata": {},
   "outputs": [],
   "source": [
    "# passing kwargs to the decorators\n",
    "def accept_kwargs(function_to_decorator): #3\n",
    "    def inner_function(*args, **kwargs): #5\n",
    "        print(\"positional arguments are\", args)\n",
    "        print(\"the keyword arguments are\", kwargs)\n",
    "        function_to_decorator(*args,**kwargs)\n",
    "    return inner_function #4\n",
    "\n",
    "@accept_kwargs #2\n",
    "def function_with_args(*args, **kwargs): #1\n",
    "    print(\"Inside functions args\", args)\n",
    "    print(\"kwargs..\", kwargs)\n",
    "    \n"
   ]
  },
  {
   "cell_type": "code",
   "execution_count": 205,
   "id": "5ecedc27",
   "metadata": {},
   "outputs": [
    {
     "name": "stdout",
     "output_type": "stream",
     "text": [
      "positional arguments are (1, 2)\n",
      "the keyword arguments are {'name': 'piyush', 'address': 'pune'}\n",
      "Inside functions args (1, 2)\n",
      "kwargs.. {'name': 'piyush', 'address': 'pune'}\n"
     ]
    }
   ],
   "source": [
    "function_with_args(1,2, name='piyush', address='pune')"
   ]
  },
  {
   "cell_type": "code",
   "execution_count": null,
   "id": "bf52fce7",
   "metadata": {},
   "outputs": [],
   "source": []
  },
  {
   "cell_type": "code",
   "execution_count": 232,
   "id": "a0fe0380",
   "metadata": {},
   "outputs": [],
   "source": [
    "# passing argument to decorator\n",
    "\n",
    "def decorator_with_args(decorator_args1, decorator_args2, decorator_args3):\n",
    "    \n",
    "    def decorator(func):\n",
    "        def wrapper(function_args1, function_args2, function_args3):\n",
    "            print(\"The wrapper can access all the variables\\n\"\n",
    "                 \"\\t from the decorator maker:{0} {1} {2}\\n\"\n",
    "                 \"\\t from the function call:{3} {4} {5}\\n\"\n",
    "                 \"and pass them into decorator function\".format(decorator_args1,\n",
    "                                                               decorator_args2,\n",
    "                                                               decorator_args3,\n",
    "                                                               function_args1,\n",
    "                                                               function_args2,\n",
    "                                                               function_args3))\n",
    "            return func(function_args1, function_args2, function_args3)\n",
    "        return wrapper\n",
    "    return decorator\n",
    "\n",
    "pandas = \"pandas\"\n",
    "@decorator_with_args(pandas, \"Numpy\", \"Scifi-learn\")\n",
    "def actual_function(function_args1,function_args2,function_args3):\n",
    "    print(\"This is decorated function and it only knows about its args:{0}, {1}, {2}\".format( function_args1,\n",
    "                                                               function_args2,\n",
    "                                                               function_args3))\n",
    "    \n",
    "    "
   ]
  },
  {
   "cell_type": "code",
   "execution_count": 233,
   "id": "0fb52775",
   "metadata": {},
   "outputs": [
    {
     "name": "stdout",
     "output_type": "stream",
     "text": [
      "The wrapper can access all the variables\n",
      "\t from the decorator maker:pandas Numpy Scifi-learn\n",
      "\t from the function call:john science tools\n",
      "and pass them into decorator function\n",
      "This is decorated function and it only knows about its args:john, science, tools\n"
     ]
    }
   ],
   "source": [
    "actual_function(\"john\", \"science\",\"tools\")"
   ]
  },
  {
   "cell_type": "code",
   "execution_count": null,
   "id": "b016e9c3",
   "metadata": {},
   "outputs": [],
   "source": []
  },
  {
   "cell_type": "code",
   "execution_count": 235,
   "id": "25d533da",
   "metadata": {},
   "outputs": [],
   "source": [
    "# a feature --> b feature --> c feature\n",
    "# chaining of decorator"
   ]
  },
  {
   "cell_type": "code",
   "execution_count": 237,
   "id": "e3ce95f1",
   "metadata": {},
   "outputs": [],
   "source": [
    "\n",
    "from functools import wraps\n",
    "# code for testing decorator chaining\n",
    "\n",
    "def decor1(func): #8 (#6 value goes here)\n",
    "    def inner(): #10\n",
    "        x = func()\n",
    "        print(\"X in decor2..\", x)\n",
    "        return x*x\n",
    "    return inner #9\n",
    "\n",
    "def decor(func): #3\n",
    "    def inner():  #5\n",
    "        x = func()\n",
    "        print(\"X in decor 1st..\", x)\n",
    "        return 2*x #6\n",
    "    return inner  #4\n",
    "\n",
    "@decor1 #7\n",
    "@decor #2\n",
    "def num(): #1\n",
    "    return 10"
   ]
  },
  {
   "cell_type": "code",
   "execution_count": 238,
   "id": "fc6124f3",
   "metadata": {},
   "outputs": [
    {
     "name": "stdout",
     "output_type": "stream",
     "text": [
      "X in decor 1st.. 10\n",
      "X in decor2.. 20\n"
     ]
    },
    {
     "data": {
      "text/plain": [
       "400"
      ]
     },
     "execution_count": 238,
     "metadata": {},
     "output_type": "execute_result"
    }
   ],
   "source": [
    "num()"
   ]
  },
  {
   "cell_type": "code",
   "execution_count": 241,
   "id": "0130b88e",
   "metadata": {},
   "outputs": [],
   "source": [
    "def decor2(func): \n",
    "    def inner(): \n",
    "        x = func()\n",
    "        print(\"X in decor3..\", x)\n",
    "        return x+x\n",
    "    return inner \n",
    "\n",
    "def decor1(func): #8 (#6 value goes here)\n",
    "    def inner(): #10\n",
    "        x = func()\n",
    "        print(\"X in decor2..\", x)\n",
    "        return x*x\n",
    "    return inner #9\n",
    "\n",
    "def decor(func): #3\n",
    "    def inner():  #5\n",
    "        x = func()\n",
    "        print(\"X in decor 1st..\", x)\n",
    "        return 2*x #6\n",
    "    return inner  #4\n",
    "\n",
    "@decor2\n",
    "@decor1 #7\n",
    "@decor #2\n",
    "def num(): #1\n",
    "    return 10"
   ]
  },
  {
   "cell_type": "code",
   "execution_count": 242,
   "id": "233dcb15",
   "metadata": {},
   "outputs": [
    {
     "name": "stdout",
     "output_type": "stream",
     "text": [
      "X in decor 1st.. 10\n",
      "X in decor2.. 20\n",
      "X in decor3.. 400\n"
     ]
    },
    {
     "data": {
      "text/plain": [
       "800"
      ]
     },
     "execution_count": 242,
     "metadata": {},
     "output_type": "execute_result"
    }
   ],
   "source": [
    "num()"
   ]
  },
  {
   "cell_type": "code",
   "execution_count": null,
   "id": "c1f54513",
   "metadata": {},
   "outputs": [],
   "source": []
  },
  {
   "cell_type": "code",
   "execution_count": 278,
   "id": "8ed48f63",
   "metadata": {},
   "outputs": [],
   "source": [
    "# generator func is used to return multiple values\n",
    "\n",
    "def simple_generator():\n",
    "    print(\"hiii\")\n",
    "    print(\"hello\")\n",
    "    x=10\n",
    "    y=x+5\n",
    "    print(x)\n",
    "    yield \"Python\"\n",
    "    yield y"
   ]
  },
  {
   "cell_type": "code",
   "execution_count": 279,
   "id": "8494bc30",
   "metadata": {},
   "outputs": [
    {
     "data": {
      "text/plain": [
       "<function __main__.simple_generator()>"
      ]
     },
     "execution_count": 279,
     "metadata": {},
     "output_type": "execute_result"
    }
   ],
   "source": [
    "simple_generator"
   ]
  },
  {
   "cell_type": "code",
   "execution_count": 284,
   "id": "acc04573",
   "metadata": {},
   "outputs": [
    {
     "data": {
      "text/plain": [
       "<generator object simple_generator at 0x000001DB21CD25F0>"
      ]
     },
     "execution_count": 284,
     "metadata": {},
     "output_type": "execute_result"
    }
   ],
   "source": [
    "ret= simple_generator()\n",
    "ret"
   ]
  },
  {
   "cell_type": "code",
   "execution_count": 285,
   "id": "cbf1b186",
   "metadata": {},
   "outputs": [
    {
     "name": "stdout",
     "output_type": "stream",
     "text": [
      "hiii\n",
      "hello\n",
      "10\n",
      "Python\n",
      "15\n"
     ]
    }
   ],
   "source": [
    "for val in ret:\n",
    "    print(val)"
   ]
  },
  {
   "cell_type": "code",
   "execution_count": 286,
   "id": "8639b7e0",
   "metadata": {},
   "outputs": [],
   "source": [
    "def fib(n): #fibonacci series\n",
    "    numbers = []\n",
    "    first , second = 0 ,1\n",
    "    while first < n:\n",
    "        numbers.append(first)\n",
    "        first, second = second, first+second\n",
    "    print(numbers)"
   ]
  },
  {
   "cell_type": "code",
   "execution_count": 287,
   "id": "21ecd93f",
   "metadata": {},
   "outputs": [
    {
     "name": "stdout",
     "output_type": "stream",
     "text": [
      "[0, 1, 1, 2, 3, 5, 8, 13, 21, 34, 55, 89, 144, 233, 377, 610, 987, 1597, 2584, 4181, 6765, 10946, 17711, 28657, 46368, 75025, 121393, 196418, 317811, 514229, 832040, 1346269, 2178309, 3524578, 5702887, 9227465, 14930352, 24157817, 39088169, 63245986, 102334155, 165580141, 267914296, 433494437, 701408733, 1134903170, 1836311903, 2971215073, 4807526976, 7778742049]\n"
     ]
    }
   ],
   "source": [
    "fib(10000000000)"
   ]
  },
  {
   "cell_type": "code",
   "execution_count": null,
   "id": "f0594b5d",
   "metadata": {},
   "outputs": [],
   "source": [
    "\n"
   ]
  },
  {
   "cell_type": "code",
   "execution_count": 299,
   "id": "73f48ad9",
   "metadata": {},
   "outputs": [],
   "source": [
    "# write custom generator func like range\n",
    "\n",
    "def fun_range(start, stop, increment):\n",
    "    x= start\n",
    "    while x< stop:\n",
    "        yield x\n",
    "        x+= increment"
   ]
  },
  {
   "cell_type": "code",
   "execution_count": 300,
   "id": "bfb1b206",
   "metadata": {},
   "outputs": [
    {
     "name": "stdout",
     "output_type": "stream",
     "text": [
      "<class 'generator'>\n",
      "0\n",
      "0.5\n",
      "1.0\n",
      "1.5\n",
      "2.0\n",
      "2.5\n",
      "3.0\n",
      "3.5\n"
     ]
    }
   ],
   "source": [
    "c = fun_range(0, 4, 0.5)\n",
    "print(type(c))\n",
    "\n",
    "for n in fun_range(0, 4, 0.5):\n",
    "    print(n)"
   ]
  },
  {
   "cell_type": "code",
   "execution_count": 301,
   "id": "691b9baa",
   "metadata": {},
   "outputs": [
    {
     "data": {
      "text/plain": [
       "0"
      ]
     },
     "execution_count": 301,
     "metadata": {},
     "output_type": "execute_result"
    }
   ],
   "source": [
    "next(c)"
   ]
  },
  {
   "cell_type": "code",
   "execution_count": 302,
   "id": "1ce4a49d",
   "metadata": {},
   "outputs": [
    {
     "data": {
      "text/plain": [
       "0.5"
      ]
     },
     "execution_count": 302,
     "metadata": {},
     "output_type": "execute_result"
    }
   ],
   "source": [
    "next(c)"
   ]
  },
  {
   "cell_type": "code",
   "execution_count": 306,
   "id": "046a8433",
   "metadata": {},
   "outputs": [
    {
     "data": {
      "text/plain": [
       "2.0"
      ]
     },
     "execution_count": 306,
     "metadata": {},
     "output_type": "execute_result"
    }
   ],
   "source": [
    "\n",
    "next(c)"
   ]
  },
  {
   "cell_type": "code",
   "execution_count": null,
   "id": "775c6f98",
   "metadata": {},
   "outputs": [],
   "source": []
  },
  {
   "cell_type": "code",
   "execution_count": 309,
   "id": "6ee3717b",
   "metadata": {},
   "outputs": [
    {
     "name": "stdout",
     "output_type": "stream",
     "text": [
      "('a', 'b', 'c')\n",
      "('a', 'c', 'b')\n",
      "('b', 'a', 'c')\n",
      "('b', 'c', 'a')\n",
      "('c', 'a', 'b')\n",
      "('c', 'b', 'a')\n"
     ]
    }
   ],
   "source": [
    "# assignment write pgm to calculate permutation and combination of below list\n",
    "items = ['a','b','c']\n",
    "\n",
    "from itertools import permutations\n",
    "for p in permutations(items):\n",
    "    print(p)"
   ]
  },
  {
   "cell_type": "code",
   "execution_count": 310,
   "id": "cc45dd92",
   "metadata": {},
   "outputs": [
    {
     "name": "stdout",
     "output_type": "stream",
     "text": [
      "('a', 'b', 'c')\n"
     ]
    }
   ],
   "source": [
    "from itertools import combinations\n",
    "for p in combinations(items, 3):\n",
    "    print(p)\n"
   ]
  },
  {
   "cell_type": "code",
   "execution_count": 311,
   "id": "824f29e3",
   "metadata": {},
   "outputs": [
    {
     "name": "stdout",
     "output_type": "stream",
     "text": [
      "('a', 'b')\n",
      "('a', 'c')\n",
      "('b', 'c')\n"
     ]
    }
   ],
   "source": [
    "from itertools import combinations\n",
    "for p in combinations(items, 2):\n",
    "    print(p)\n"
   ]
  },
  {
   "cell_type": "code",
   "execution_count": 313,
   "id": "8e3d2bfd",
   "metadata": {},
   "outputs": [
    {
     "name": "stdout",
     "output_type": "stream",
     "text": [
      "('a',)\n",
      "('b',)\n",
      "('c',)\n"
     ]
    }
   ],
   "source": [
    "from itertools import combinations\n",
    "for p in combinations(items, 1):\n",
    "     print(p)"
   ]
  },
  {
   "cell_type": "code",
   "execution_count": null,
   "id": "ff13adf0",
   "metadata": {},
   "outputs": [],
   "source": []
  },
  {
   "cell_type": "code",
   "execution_count": 315,
   "id": "fba1479d",
   "metadata": {},
   "outputs": [
    {
     "name": "stdout",
     "output_type": "stream",
     "text": [
      "0 a\n",
      "1 b\n",
      "2 c\n"
     ]
    }
   ],
   "source": [
    "# enumerate to the track of sequence in terms of index and value\n",
    "\n",
    "mylist = ['a','b','c']\n",
    "for idx,val in enumerate(mylist):\n",
    "    print(idx, val)"
   ]
  },
  {
   "cell_type": "code",
   "execution_count": 316,
   "id": "94fc1472",
   "metadata": {},
   "outputs": [
    {
     "name": "stdout",
     "output_type": "stream",
     "text": [
      "1 a\n",
      "2 b\n",
      "3 c\n"
     ]
    }
   ],
   "source": [
    "mylist = ['a','b','c']\n",
    "for idx,val in enumerate(mylist, 1):\n",
    "    print(idx, val)"
   ]
  },
  {
   "cell_type": "code",
   "execution_count": 318,
   "id": "e9803ec0",
   "metadata": {},
   "outputs": [
    {
     "name": "stdout",
     "output_type": "stream",
     "text": [
      "{1: 101, 2: 102, 3: 103, 4: 104, 5: 105}\n"
     ]
    }
   ],
   "source": [
    "# ZIP iterator\n",
    "\n",
    "x= [1,2,3,4,5]\n",
    "y= [101,102,103,104,105]\n",
    "d= {}\n",
    "for i, j in zip(x, y):\n",
    "    d[i] = j\n",
    "print(d)"
   ]
  },
  {
   "cell_type": "code",
   "execution_count": 321,
   "id": "7ea1d8fe",
   "metadata": {},
   "outputs": [
    {
     "name": "stdout",
     "output_type": "stream",
     "text": [
      "(1, 'w')\n",
      "(2, 'y')\n",
      "(3, 'x')\n"
     ]
    }
   ],
   "source": [
    "x= [1,2,3]\n",
    "y= ['w','y','x','z']\n",
    "for i in zip(x, y):\n",
    "    print(i)"
   ]
  },
  {
   "cell_type": "code",
   "execution_count": 323,
   "id": "fbc7715a",
   "metadata": {},
   "outputs": [
    {
     "name": "stdout",
     "output_type": "stream",
     "text": [
      "(1, 'w')\n",
      "(2, 'y')\n",
      "(3, 'x')\n",
      "(None, 'z')\n"
     ]
    }
   ],
   "source": [
    "from itertools import zip_longest\n",
    "for i in zip_longest(x, y):\n",
    "    print(i)"
   ]
  },
  {
   "cell_type": "code",
   "execution_count": 326,
   "id": "9a22a9ea",
   "metadata": {},
   "outputs": [
    {
     "name": "stdout",
     "output_type": "stream",
     "text": [
      "(1, 'w', 10)\n",
      "(2, 'y', 11)\n",
      "(3, 'x', 12)\n"
     ]
    }
   ],
   "source": [
    "x= [1,2,3]\n",
    "y= ['w','y','x','z']\n",
    "z= [10,11,12]\n",
    "for i in zip(x, y, z):\n",
    "    print(i)"
   ]
  },
  {
   "cell_type": "code",
   "execution_count": 102,
   "id": "49f636e1",
   "metadata": {},
   "outputs": [
    {
     "ename": "NameError",
     "evalue": "name 'y' is not defined",
     "output_type": "error",
     "traceback": [
      "\u001b[1;31m---------------------------------------------------------------------------\u001b[0m",
      "\u001b[1;31mNameError\u001b[0m                                 Traceback (most recent call last)",
      "\u001b[1;32mC:\\Users\\PIYUSH~1\\AppData\\Local\\Temp/ipykernel_19312/1775892539.py\u001b[0m in \u001b[0;36m<module>\u001b[1;34m\u001b[0m\n\u001b[0;32m      1\u001b[0m \u001b[1;32mfrom\u001b[0m \u001b[0mitertools\u001b[0m \u001b[1;32mimport\u001b[0m \u001b[0mchain\u001b[0m\u001b[1;33m\u001b[0m\u001b[1;33m\u001b[0m\u001b[0m\n\u001b[1;32m----> 2\u001b[1;33m \u001b[1;32mfor\u001b[0m \u001b[0mi\u001b[0m \u001b[1;32min\u001b[0m \u001b[0mchain\u001b[0m\u001b[1;33m(\u001b[0m\u001b[0mx\u001b[0m\u001b[1;33m,\u001b[0m\u001b[0my\u001b[0m\u001b[1;33m,\u001b[0m\u001b[0mz\u001b[0m\u001b[1;33m)\u001b[0m\u001b[1;33m:\u001b[0m\u001b[1;33m\u001b[0m\u001b[1;33m\u001b[0m\u001b[0m\n\u001b[0m\u001b[0;32m      3\u001b[0m     \u001b[0mprint\u001b[0m\u001b[1;33m(\u001b[0m\u001b[0mi\u001b[0m\u001b[1;33m)\u001b[0m\u001b[1;33m\u001b[0m\u001b[1;33m\u001b[0m\u001b[0m\n",
      "\u001b[1;31mNameError\u001b[0m: name 'y' is not defined"
     ]
    }
   ],
   "source": [
    "from itertools import chain\n",
    "for i in chain(x,y,z):\n",
    "    print(i)"
   ]
  },
  {
   "cell_type": "code",
   "execution_count": 334,
   "id": "fab6d32b",
   "metadata": {},
   "outputs": [],
   "source": [
    "# flattening the nested sequence\n",
    "\n",
    "from collections import Iterable\n",
    "\n",
    "def flatten(items, ignore_types=(str, bytes)):\n",
    "    for x in items:\n",
    "        if isinstance(x, Iterable) and not isinstance(x, ignore_types):\n",
    "            yield from flatten(x)\n",
    "        else:\n",
    "            yield x"
   ]
  },
  {
   "cell_type": "code",
   "execution_count": 335,
   "id": "01430962",
   "metadata": {},
   "outputs": [
    {
     "name": "stdout",
     "output_type": "stream",
     "text": [
      "1\n",
      "2\n",
      "3\n",
      "4\n",
      "5\n",
      "6\n",
      "7\n",
      "8\n"
     ]
    }
   ],
   "source": [
    "items = [1,2,[3,4,[5,6],7],8]\n",
    "\n",
    "for x in flatten(items):\n",
    "    print(x)"
   ]
  },
  {
   "cell_type": "code",
   "execution_count": null,
   "id": "bc7bd077",
   "metadata": {},
   "outputs": [],
   "source": []
  },
  {
   "cell_type": "code",
   "execution_count": 342,
   "id": "6dfb5a8d",
   "metadata": {},
   "outputs": [],
   "source": [
    "# FILES\n",
    "\n"
   ]
  },
  {
   "cell_type": "code",
   "execution_count": 47,
   "id": "f92ec941",
   "metadata": {},
   "outputs": [],
   "source": [
    "with open('sample.txt',\"wt\") as f:\n",
    "    f.write(\"hello hi \\nhow are you \\n pytohn\")"
   ]
  },
  {
   "cell_type": "code",
   "execution_count": 48,
   "id": "452b91c1",
   "metadata": {},
   "outputs": [
    {
     "name": "stdout",
     "output_type": "stream",
     "text": [
      "hello hi \n",
      "how are you \n",
      " pytohn\n"
     ]
    }
   ],
   "source": [
    "with open('sample.txt',\"rt\") as f:\n",
    "    print(f.read())"
   ]
  },
  {
   "cell_type": "code",
   "execution_count": null,
   "id": "f87a6d2b",
   "metadata": {},
   "outputs": [],
   "source": []
  },
  {
   "cell_type": "code",
   "execution_count": 6,
   "id": "36aee406",
   "metadata": {},
   "outputs": [
    {
     "name": "stdout",
     "output_type": "stream",
     "text": [
      "hello hi \n",
      "\n",
      "how are you \n",
      "\n",
      " pytohn\n"
     ]
    }
   ],
   "source": [
    "# read entire file with single string\n",
    "with open(\"sample.txt\", \"rt\") as f:\n",
    "    for line in f:\n",
    "\n",
    "        print(line)"
   ]
  },
  {
   "cell_type": "code",
   "execution_count": 7,
   "id": "b5f911dd",
   "metadata": {},
   "outputs": [
    {
     "ename": "ValueError",
     "evalue": "invalid mode: 'mode'",
     "output_type": "error",
     "traceback": [
      "\u001b[1;31m---------------------------------------------------------------------------\u001b[0m",
      "\u001b[1;31mValueError\u001b[0m                                Traceback (most recent call last)",
      "\u001b[1;32mC:\\Users\\PIYUSH~1\\AppData\\Local\\Temp/ipykernel_19312/2560560921.py\u001b[0m in \u001b[0;36m<module>\u001b[1;34m\u001b[0m\n\u001b[0;32m      2\u001b[0m \u001b[1;31m#but the diff. is below method needs to be closed [f.close()]\u001b[0m\u001b[1;33m\u001b[0m\u001b[1;33m\u001b[0m\u001b[0m\n\u001b[0;32m      3\u001b[0m \u001b[1;33m\u001b[0m\u001b[0m\n\u001b[1;32m----> 4\u001b[1;33m \u001b[0mf\u001b[0m \u001b[1;33m=\u001b[0m \u001b[0mopen\u001b[0m\u001b[1;33m(\u001b[0m\u001b[1;34m\"filename\"\u001b[0m\u001b[1;33m,\u001b[0m\u001b[1;34m\"mode\"\u001b[0m\u001b[1;33m)\u001b[0m\u001b[1;33m\u001b[0m\u001b[1;33m\u001b[0m\u001b[0m\n\u001b[0m\u001b[0;32m      5\u001b[0m \u001b[0mf\u001b[0m\u001b[1;33m.\u001b[0m\u001b[0mread\u001b[0m\u001b[1;33m(\u001b[0m\u001b[1;33m)\u001b[0m\u001b[1;33m\u001b[0m\u001b[1;33m\u001b[0m\u001b[0m\n\u001b[0;32m      6\u001b[0m \u001b[0mf\u001b[0m\u001b[1;33m.\u001b[0m\u001b[0mwrite\u001b[0m\u001b[1;33m(\u001b[0m\u001b[1;33m)\u001b[0m\u001b[1;33m\u001b[0m\u001b[1;33m\u001b[0m\u001b[0m\n",
      "\u001b[1;31mValueError\u001b[0m: invalid mode: 'mode'"
     ]
    }
   ],
   "source": [
    "# the above method for opening file and below method both are same\n",
    "#but the diff. is below method needs to be closed [f.close()]\n",
    "\n",
    "f = open(\"filename\",\"mode\")\n",
    "f.read()\n",
    "f.write()\n",
    "f.close()\n"
   ]
  },
  {
   "cell_type": "code",
   "execution_count": 108,
   "id": "75ba749f",
   "metadata": {},
   "outputs": [],
   "source": [
    "#redirect out file\n",
    "\n",
    "with open(\"somefile.txt\",\"wt\") as f:\n",
    "    print(\"hiii python\", file=f)\n",
    "    print(\"lol pytHON\", file=f)"
   ]
  },
  {
   "cell_type": "code",
   "execution_count": 109,
   "id": "0a50f135",
   "metadata": {},
   "outputs": [],
   "source": [
    "f = open(\"somefile.txt\", \"rt\")\n",
    "data = f.read()\n",
    "f.close()     # f.close() is mandatory if we use f=open(---)"
   ]
  },
  {
   "cell_type": "code",
   "execution_count": 110,
   "id": "4398c6e9",
   "metadata": {},
   "outputs": [
    {
     "data": {
      "text/plain": [
       "'hiii python\\nlol pytHON\\n'"
      ]
     },
     "execution_count": 110,
     "metadata": {},
     "output_type": "execute_result"
    }
   ],
   "source": [
    "data"
   ]
  },
  {
   "cell_type": "code",
   "execution_count": null,
   "id": "2c20c986",
   "metadata": {},
   "outputs": [],
   "source": [
    "with open(\"sample-error.txt\",\"wt\") as f:\n",
    "    print(\"hiii python\", file=f)"
   ]
  },
  {
   "cell_type": "code",
   "execution_count": null,
   "id": "f51f05ba",
   "metadata": {},
   "outputs": [],
   "source": [
    "# the below command will try to igonre the errors which prohibits to open the file\n",
    "f = open(\"filename\", \"rt\", encoding= \"ascii\" ,errors=\"ignore\")"
   ]
  },
  {
   "cell_type": "code",
   "execution_count": null,
   "id": "92d6c6dd",
   "metadata": {},
   "outputs": [],
   "source": []
  },
  {
   "cell_type": "code",
   "execution_count": 14,
   "id": "90908a04",
   "metadata": {},
   "outputs": [],
   "source": [
    "# write binary data file\n",
    "\n",
    "with open(\"somefile.bin\", \"wb\") as f:\n",
    "    f.write(b\"Hello World\")"
   ]
  },
  {
   "cell_type": "code",
   "execution_count": 16,
   "id": "ce831184",
   "metadata": {},
   "outputs": [],
   "source": [
    "# read the data from binary file\n",
    "\n",
    "with open(\"somefile.bin\", \"rb\") as f:\n",
    "    d=f.read()"
   ]
  },
  {
   "cell_type": "code",
   "execution_count": 17,
   "id": "6d767894",
   "metadata": {},
   "outputs": [
    {
     "data": {
      "text/plain": [
       "b'Hello World'"
      ]
     },
     "execution_count": 17,
     "metadata": {},
     "output_type": "execute_result"
    }
   ],
   "source": [
    "d"
   ]
  },
  {
   "cell_type": "code",
   "execution_count": 20,
   "id": "82fc165f",
   "metadata": {},
   "outputs": [
    {
     "name": "stdout",
     "output_type": "stream",
     "text": [
      "file already exists!@!@!@\n"
     ]
    }
   ],
   "source": [
    "import os\n",
    "if not os.path.exists(\"somefile1\"):\n",
    "    with open(\"somefile1\", \"wt\")as f:\n",
    "        f.write(\"HELLO \\n\")\n",
    "else:\n",
    "    print(\"file already exists!@!@!@\")"
   ]
  },
  {
   "cell_type": "code",
   "execution_count": 111,
   "id": "cd14fc3f",
   "metadata": {},
   "outputs": [],
   "source": [
    "# gzip Compression\n",
    "\n",
    "import gzip\n",
    "with gzip.open(\"somefile-new.gz\",\"wt\") as f:\n",
    "    f.write(\"text compression\")"
   ]
  },
  {
   "cell_type": "code",
   "execution_count": 29,
   "id": "f44398a2",
   "metadata": {},
   "outputs": [],
   "source": [
    "# bz2\n",
    "\n",
    "import bz2\n",
    "with gzip.open(\"somefile-new2.bz2\",\"wt\") as f:\n",
    "    f.write(\"text compression 1234567\")\n"
   ]
  },
  {
   "cell_type": "code",
   "execution_count": 30,
   "id": "1c964ff7",
   "metadata": {},
   "outputs": [
    {
     "name": "stdout",
     "output_type": "stream",
     "text": [
      "text info ---->>> text compression\n"
     ]
    }
   ],
   "source": [
    "# Read compressed file:\n",
    "\n",
    "import gzip\n",
    "with gzip.open(\"somefile-new.gz\",\"rt\") as f:\n",
    "    x = f.read()\n",
    "    print(\"text info ---->>>\", x)\n"
   ]
  },
  {
   "cell_type": "code",
   "execution_count": 31,
   "id": "ac838225",
   "metadata": {},
   "outputs": [
    {
     "name": "stdout",
     "output_type": "stream",
     "text": [
      "text info ---->>> text compression 1234567\n"
     ]
    }
   ],
   "source": [
    "# Read bz2 compressed file:\n",
    "\n",
    "import gzip\n",
    "with gzip.open(\"somefile-new2.bz2\",\"rt\") as f:\n",
    "    x = f.read()\n",
    "    print(\"text info ---->>>\", x)\n"
   ]
  },
  {
   "cell_type": "code",
   "execution_count": 32,
   "id": "2c07c315",
   "metadata": {},
   "outputs": [],
   "source": [
    "f= open(\"sample.txt\",\"rt\")"
   ]
  },
  {
   "cell_type": "code",
   "execution_count": 33,
   "id": "eaa003f8",
   "metadata": {},
   "outputs": [
    {
     "name": "stdout",
     "output_type": "stream",
     "text": [
      "hello hi \n",
      "how are you \n",
      " pytohn\n"
     ]
    }
   ],
   "source": [
    "print(f.read())"
   ]
  },
  {
   "cell_type": "code",
   "execution_count": 34,
   "id": "a8709727",
   "metadata": {},
   "outputs": [
    {
     "data": {
      "text/plain": [
       "''"
      ]
     },
     "execution_count": 34,
     "metadata": {},
     "output_type": "execute_result"
    }
   ],
   "source": [
    "f.read()"
   ]
  },
  {
   "cell_type": "code",
   "execution_count": 35,
   "id": "cedb554a",
   "metadata": {},
   "outputs": [],
   "source": [
    "fh = open(\"sample.txt\")"
   ]
  },
  {
   "cell_type": "code",
   "execution_count": 36,
   "id": "4d1c613e",
   "metadata": {},
   "outputs": [
    {
     "data": {
      "text/plain": [
       "'hello hi \\n'"
      ]
     },
     "execution_count": 36,
     "metadata": {},
     "output_type": "execute_result"
    }
   ],
   "source": [
    "fh.readline()"
   ]
  },
  {
   "cell_type": "code",
   "execution_count": 37,
   "id": "82d21250",
   "metadata": {},
   "outputs": [
    {
     "data": {
      "text/plain": [
       "'how are you \\n'"
      ]
     },
     "execution_count": 37,
     "metadata": {},
     "output_type": "execute_result"
    }
   ],
   "source": [
    "fh.readline()"
   ]
  },
  {
   "cell_type": "code",
   "execution_count": 38,
   "id": "8214c355",
   "metadata": {},
   "outputs": [
    {
     "data": {
      "text/plain": [
       "' pytohn'"
      ]
     },
     "execution_count": 38,
     "metadata": {},
     "output_type": "execute_result"
    }
   ],
   "source": [
    "fh.readline()"
   ]
  },
  {
   "cell_type": "code",
   "execution_count": 39,
   "id": "488b3b42",
   "metadata": {},
   "outputs": [
    {
     "name": "stdout",
     "output_type": "stream",
     "text": [
      "hello hi \n",
      "\n",
      "['how are you \\n', ' pytohn']\n"
     ]
    }
   ],
   "source": [
    "with open(\"sample.txt\") as fh:\n",
    "    print(fh.readline())\n",
    "    print(fh.readlines())"
   ]
  },
  {
   "cell_type": "code",
   "execution_count": 40,
   "id": "c41380a1",
   "metadata": {},
   "outputs": [
    {
     "name": "stdout",
     "output_type": "stream",
     "text": [
      "hello hi \n",
      "how are you \n",
      " pytohn\n",
      "[]\n"
     ]
    }
   ],
   "source": [
    "with open(\"sample.txt\") as fh:\n",
    "    data = fh.read()\n",
    "    print(data)\n",
    "    print(fh.readlines()) #the pointer comes to last location thats why it gives empty array"
   ]
  },
  {
   "cell_type": "code",
   "execution_count": 42,
   "id": "531f1f27",
   "metadata": {},
   "outputs": [
    {
     "name": "stdout",
     "output_type": "stream",
     "text": [
      "hello hi \n",
      "how are you \n",
      " pytohn\n",
      "['hello hi \\n', 'how are you \\n', ' pytohn']\n"
     ]
    }
   ],
   "source": [
    "# solution of above problem\n",
    "\n",
    "with open(\"sample.txt\") as fh:\n",
    "    data = fh.read()\n",
    "    print(data)\n",
    "    fh.seek(0,0)  # seek takes the pointer again to start of the array\n",
    "    print(fh.readlines())"
   ]
  },
  {
   "cell_type": "code",
   "execution_count": 50,
   "id": "b2c07f33",
   "metadata": {},
   "outputs": [
    {
     "name": "stdout",
     "output_type": "stream",
     "text": [
      "1  pytohn"
     ]
    }
   ],
   "source": [
    "# print all the line containing PYTHON including line no.\n",
    "\n",
    "with open(\"sample.txt\") as fh:\n",
    "    count = 1\n",
    "    for line in fh:\n",
    "        if 'pytohn'.upper() in line.upper():\n",
    "            print(count, line, end='')\n",
    "            count+=1"
   ]
  },
  {
   "cell_type": "code",
   "execution_count": null,
   "id": "7f455ff9",
   "metadata": {},
   "outputs": [],
   "source": [
    "# picks a csv file and code to get specific columns \n",
    "\n",
    "data = {}\n",
    "with open(\"XNSE-BAJAJ_AUTO.csv\") as b:\n",
    "    pricelist = []\n",
    "    for rec in b:\n",
    "        rec = rec.strip()\n",
    "        cols = [x.strip('\"') for x in rec.split(',')]\n",
    "        if cols[2] == \"Open\" or cols[2] == \"High\":\n",
    "            continue\n",
    "        if cols[1] in data:\n",
    "            data[cols[1].strip()].append(float(cols[2]))\n",
    "        else:\n",
    "            data[cols[1].strip()] = [float(cols[2])]\n",
    "        \n",
    "for year in data:\n",
    "    print(\"Average price for {} is {}\".format(year, round(sum(data[year])/len(data[year]),2)))\n"
   ]
  },
  {
   "cell_type": "code",
   "execution_count": null,
   "id": "ed9dc335",
   "metadata": {},
   "outputs": [],
   "source": [
    "# fetching the above datas and writing it in another txt file\n",
    "\n",
    "data = {}\n",
    "with open(\"XNSE-BAJAJ_AUTO.csv\") as b, open(\"data-writes.txt\", \"w+\") as w:\n",
    "    pricelist = []\n",
    "    for rec in b:\n",
    "        rec = rec.strip()\n",
    "        cols = [x.strip('\"') for x in rec.split(',')]\n",
    "        if cols[2] == \"Open\" or cols[2] == \"High\":\n",
    "            continue\n",
    "        if cols[1] in data:\n",
    "            data[cols[1].strip()].append(float(cols[2]))\n",
    "        else:\n",
    "            data[cols[1].strip()] = [float(cols[2])]\n",
    "    for year in data:\n",
    "        avg_price = round(sum(data[year]) / len(data[year]), 2)\n",
    "        w.write(\"Avg price for {} is {} \\n\".format(year, avg_price))\n"
   ]
  },
  {
   "cell_type": "code",
   "execution_count": null,
   "id": "0c26095a",
   "metadata": {},
   "outputs": [],
   "source": []
  },
  {
   "cell_type": "code",
   "execution_count": null,
   "id": "9774c340",
   "metadata": {},
   "outputs": [],
   "source": []
  },
  {
   "cell_type": "code",
   "execution_count": null,
   "id": "f0eace15",
   "metadata": {},
   "outputs": [],
   "source": []
  },
  {
   "cell_type": "code",
   "execution_count": 53,
   "id": "23e43cdf",
   "metadata": {},
   "outputs": [],
   "source": [
    "import os\n",
    "path = \"/usr/piyush/data/data.csv\""
   ]
  },
  {
   "cell_type": "code",
   "execution_count": 54,
   "id": "64f8b515",
   "metadata": {},
   "outputs": [
    {
     "data": {
      "text/plain": [
       "'data.csv'"
      ]
     },
     "execution_count": 54,
     "metadata": {},
     "output_type": "execute_result"
    }
   ],
   "source": [
    "os.path.basename(path)"
   ]
  },
  {
   "cell_type": "code",
   "execution_count": 55,
   "id": "1fdc40af",
   "metadata": {},
   "outputs": [
    {
     "data": {
      "text/plain": [
       "'/usr/piyush/data'"
      ]
     },
     "execution_count": 55,
     "metadata": {},
     "output_type": "execute_result"
    }
   ],
   "source": [
    "# get the directory name\n",
    "\n",
    "os.path.dirname(path)\n"
   ]
  },
  {
   "cell_type": "code",
   "execution_count": null,
   "id": "044962ff",
   "metadata": {},
   "outputs": [],
   "source": [
    "# join component path\n",
    "\n",
    "os.path.join"
   ]
  },
  {
   "cell_type": "code",
   "execution_count": null,
   "id": "6de52aa8",
   "metadata": {},
   "outputs": [],
   "source": []
  },
  {
   "cell_type": "code",
   "execution_count": 56,
   "id": "eff0464a",
   "metadata": {},
   "outputs": [
    {
     "name": "stdout",
     "output_type": "stream",
     "text": [
      "['$Recycle.Bin', '$WinREAgent', 'bootmgr', 'BOOTNXT', 'Config.Msi', 'data', 'Documents and Settings', 'DumpStack.log.tmp', 'hiberfil.sys', 'Intel', 'pagefile.sys', 'PerfLogs', 'Program Files', 'Program Files (x86)', 'ProgramData', 'Recovery', 'swapfile.sys', 'System Volume Information', 'Users', 'Windows']\n"
     ]
    }
   ],
   "source": [
    "import os\n",
    "name = os.listdir(\"/\")\n",
    "print(name)"
   ]
  },
  {
   "cell_type": "code",
   "execution_count": 57,
   "id": "c47530f6",
   "metadata": {},
   "outputs": [],
   "source": [
    "pyfiles = [name for name in os.listdir('/') if name.endswith('.py')]"
   ]
  },
  {
   "cell_type": "code",
   "execution_count": 58,
   "id": "f6dfb6f8",
   "metadata": {},
   "outputs": [
    {
     "name": "stdout",
     "output_type": "stream",
     "text": [
      "[]\n"
     ]
    }
   ],
   "source": [
    "print(pyfiles)"
   ]
  },
  {
   "cell_type": "code",
   "execution_count": null,
   "id": "16de7076",
   "metadata": {},
   "outputs": [],
   "source": []
  },
  {
   "cell_type": "code",
   "execution_count": 59,
   "id": "a6502852",
   "metadata": {},
   "outputs": [],
   "source": [
    "# pickle file is for serialization or deseriallization\n",
    "\n",
    "import pickle\n",
    "dict_pickle = {\"key\":\"john\", \"name\":\"fred\", \"age\":21, \"pat\":400000}\n",
    "f = open('pickel1','wb')\n",
    "# dump the object\n",
    "pickle.dump(dict_pickle, f)"
   ]
  },
  {
   "cell_type": "code",
   "execution_count": 60,
   "id": "94cad5e1",
   "metadata": {},
   "outputs": [],
   "source": [
    "# dump into string\n",
    "s = pickle.dumps(dict_pickle)"
   ]
  },
  {
   "cell_type": "code",
   "execution_count": 61,
   "id": "fd3bd071",
   "metadata": {},
   "outputs": [
    {
     "name": "stdout",
     "output_type": "stream",
     "text": [
      "b'\\x80\\x04\\x953\\x00\\x00\\x00\\x00\\x00\\x00\\x00}\\x94(\\x8c\\x03key\\x94\\x8c\\x04john\\x94\\x8c\\x04name\\x94\\x8c\\x04fred\\x94\\x8c\\x03age\\x94K\\x15\\x8c\\x03pat\\x94J\\x80\\x1a\\x06\\x00u.'\n"
     ]
    }
   ],
   "source": [
    "print(s)"
   ]
  },
  {
   "cell_type": "code",
   "execution_count": 64,
   "id": "0a76dcd1",
   "metadata": {},
   "outputs": [],
   "source": [
    "# restore from file\n",
    "\n",
    "f = open('pickel1','rb')\n",
    "# load the object\n",
    "data = pickle.load(f)"
   ]
  },
  {
   "cell_type": "code",
   "execution_count": 65,
   "id": "4d9fad3d",
   "metadata": {},
   "outputs": [
    {
     "data": {
      "text/plain": [
       "{'key': 'john', 'name': 'fred', 'age': 21, 'pat': 400000}"
      ]
     },
     "execution_count": 65,
     "metadata": {},
     "output_type": "execute_result"
    }
   ],
   "source": [
    "data"
   ]
  },
  {
   "cell_type": "code",
   "execution_count": null,
   "id": "cc6f0b4b",
   "metadata": {},
   "outputs": [],
   "source": []
  },
  {
   "cell_type": "code",
   "execution_count": 66,
   "id": "a5ef38f4",
   "metadata": {},
   "outputs": [],
   "source": [
    "import pickle"
   ]
  },
  {
   "cell_type": "code",
   "execution_count": 67,
   "id": "f1082282",
   "metadata": {},
   "outputs": [],
   "source": [
    "f = open(\"somedata1\",\"wb\")"
   ]
  },
  {
   "cell_type": "code",
   "execution_count": 68,
   "id": "695cb771",
   "metadata": {},
   "outputs": [],
   "source": [
    "pickle.dump([1,2,3,4],f)"
   ]
  },
  {
   "cell_type": "code",
   "execution_count": 69,
   "id": "ac861fa4",
   "metadata": {},
   "outputs": [],
   "source": [
    "pickle.dump(\"hello\",f)"
   ]
  },
  {
   "cell_type": "code",
   "execution_count": 71,
   "id": "678b9325",
   "metadata": {},
   "outputs": [],
   "source": [
    "pickle.dump({\"apple\",\"banana\",\"pear\"},f)"
   ]
  },
  {
   "cell_type": "code",
   "execution_count": 72,
   "id": "c181ed13",
   "metadata": {},
   "outputs": [],
   "source": [
    "f.close()"
   ]
  },
  {
   "cell_type": "code",
   "execution_count": 76,
   "id": "ce79c034",
   "metadata": {},
   "outputs": [],
   "source": [
    "f = open(\"somedata1\",\"rb\")"
   ]
  },
  {
   "cell_type": "code",
   "execution_count": 77,
   "id": "0deff020",
   "metadata": {},
   "outputs": [
    {
     "data": {
      "text/plain": [
       "[1, 2, 3, 4]"
      ]
     },
     "execution_count": 77,
     "metadata": {},
     "output_type": "execute_result"
    }
   ],
   "source": [
    "pickle.load(f)"
   ]
  },
  {
   "cell_type": "code",
   "execution_count": 78,
   "id": "277de54d",
   "metadata": {},
   "outputs": [
    {
     "data": {
      "text/plain": [
       "'hello'"
      ]
     },
     "execution_count": 78,
     "metadata": {},
     "output_type": "execute_result"
    }
   ],
   "source": [
    "pickle.load(f)"
   ]
  },
  {
   "cell_type": "code",
   "execution_count": 79,
   "id": "f2966014",
   "metadata": {},
   "outputs": [
    {
     "data": {
      "text/plain": [
       "{'apple', 'banana', 'pear'}"
      ]
     },
     "execution_count": 79,
     "metadata": {},
     "output_type": "execute_result"
    }
   ],
   "source": [
    "pickle.load(f)"
   ]
  },
  {
   "cell_type": "code",
   "execution_count": 80,
   "id": "5e96f37b",
   "metadata": {},
   "outputs": [
    {
     "ename": "EOFError",
     "evalue": "Ran out of input",
     "output_type": "error",
     "traceback": [
      "\u001b[1;31m---------------------------------------------------------------------------\u001b[0m",
      "\u001b[1;31mEOFError\u001b[0m                                  Traceback (most recent call last)",
      "\u001b[1;32mC:\\Users\\PIYUSH~1\\AppData\\Local\\Temp/ipykernel_19312/2823072338.py\u001b[0m in \u001b[0;36m<module>\u001b[1;34m\u001b[0m\n\u001b[1;32m----> 1\u001b[1;33m \u001b[0mpickle\u001b[0m\u001b[1;33m.\u001b[0m\u001b[0mload\u001b[0m\u001b[1;33m(\u001b[0m\u001b[0mf\u001b[0m\u001b[1;33m)\u001b[0m\u001b[1;33m\u001b[0m\u001b[1;33m\u001b[0m\u001b[0m\n\u001b[0m",
      "\u001b[1;31mEOFError\u001b[0m: Ran out of input"
     ]
    }
   ],
   "source": [
    "pickle.load(f)"
   ]
  },
  {
   "cell_type": "code",
   "execution_count": null,
   "id": "7d2dd05f",
   "metadata": {},
   "outputs": [],
   "source": []
  },
  {
   "cell_type": "code",
   "execution_count": 88,
   "id": "d98a40d8",
   "metadata": {},
   "outputs": [
    {
     "name": "stdout",
     "output_type": "stream",
     "text": [
      "{'john': {'key': 'john', 'name': 'fred', 'age': 21, 'pay': 400000}, 'jay': {'key': 'jay', 'name': 'jay', 'age': 50, 'pay': 20000}} \n",
      "\n",
      "john ---> {'key': 'john', 'name': 'fred', 'age': 21, 'pay': 400000}\n",
      "jay ---> {'key': 'jay', 'name': 'jay', 'age': 50, 'pay': 20000}\n"
     ]
    }
   ],
   "source": [
    "import pickle\n",
    "\n",
    "def storeData():\n",
    "    #initialize the data\n",
    "    pickel_dataset_1 = {'key': 'john', 'name': 'fred', 'age': 21, 'pay': 400000}\n",
    "    pickel_dataset_2 = {'key': 'jay', 'name': 'jay', 'age': 50, 'pay': 20000}\n",
    "\n",
    "    db = {}\n",
    "    db['john'] = pickel_dataset_1\n",
    "    db['jay'] = pickel_dataset_2\n",
    "    dbfile = open(\"examplepickle\", \"wb\")\n",
    "    pickle.dump(db, dbfile)\n",
    "    dbfile.close()\n",
    "\n",
    "def loadData():\n",
    "    # for reading\n",
    "    dbfile = open(\"examplepickle\", \"rb\")\n",
    "    db = pickle.load(dbfile)\n",
    "    print(db ,\"\\n\")\n",
    "    for key in db:\n",
    "        print(key, \"--->\", db[key])\n",
    "    dbfile.close()\n",
    "\n",
    "if __name__ == '__main__':\n",
    "    storeData()\n",
    "    loadData()"
   ]
  },
  {
   "cell_type": "code",
   "execution_count": null,
   "id": "61ee92ee",
   "metadata": {},
   "outputs": [],
   "source": []
  },
  {
   "cell_type": "code",
   "execution_count": 98,
   "id": "ae234f1d",
   "metadata": {},
   "outputs": [
    {
     "name": "stdout",
     "output_type": "stream",
     "text": [
      "{\"name\": \"Infy\", \"shares\": \"100\", \"price\": 10000}\n"
     ]
    }
   ],
   "source": [
    "# JSON data\n",
    "\n",
    "import json\n",
    "data = {\n",
    "     \"name\": \"Infy\",\n",
    "    \"shares\" : \"100\",\n",
    "    \"price\" : 10000\n",
    "}\n",
    "\n",
    "json_str = json.dumps(data)\n",
    "print(json_str)"
   ]
  },
  {
   "cell_type": "code",
   "execution_count": 99,
   "id": "367942cc",
   "metadata": {},
   "outputs": [
    {
     "name": "stdout",
     "output_type": "stream",
     "text": [
      "{'name': 'Infy', 'shares': '100', 'price': 10000}\n"
     ]
    }
   ],
   "source": [
    "data1 = json.loads(json_str)\n",
    "print(data1)"
   ]
  },
  {
   "cell_type": "code",
   "execution_count": 100,
   "id": "cb9d7990",
   "metadata": {},
   "outputs": [],
   "source": [
    "with open(\"data.json\",\"w\") as f:\n",
    "    json.dump(data, f)"
   ]
  },
  {
   "cell_type": "code",
   "execution_count": 101,
   "id": "a4aec53a",
   "metadata": {},
   "outputs": [
    {
     "name": "stdout",
     "output_type": "stream",
     "text": [
      "{'name': 'Infy', 'shares': '100', 'price': 10000}\n"
     ]
    }
   ],
   "source": [
    "with open(\"data.json\",\"r\") as f:\n",
    "    g= json.load(f)\n",
    "    print(g)"
   ]
  },
  {
   "cell_type": "code",
   "execution_count": null,
   "id": "b14e27ef",
   "metadata": {},
   "outputs": [],
   "source": []
  },
  {
   "cell_type": "code",
   "execution_count": null,
   "id": "83402de6",
   "metadata": {},
   "outputs": [],
   "source": []
  },
  {
   "cell_type": "code",
   "execution_count": null,
   "id": "f62a45b6",
   "metadata": {},
   "outputs": [],
   "source": []
  },
  {
   "cell_type": "code",
   "execution_count": null,
   "id": "65bf6054",
   "metadata": {},
   "outputs": [],
   "source": []
  },
  {
   "cell_type": "code",
   "execution_count": null,
   "id": "90a2887e",
   "metadata": {},
   "outputs": [],
   "source": []
  },
  {
   "cell_type": "code",
   "execution_count": null,
   "id": "930c99c4",
   "metadata": {},
   "outputs": [],
   "source": []
  },
  {
   "cell_type": "code",
   "execution_count": null,
   "id": "933f187e",
   "metadata": {},
   "outputs": [],
   "source": []
  },
  {
   "cell_type": "code",
   "execution_count": null,
   "id": "73d76b25",
   "metadata": {},
   "outputs": [],
   "source": []
  },
  {
   "cell_type": "code",
   "execution_count": null,
   "id": "c9891443",
   "metadata": {},
   "outputs": [],
   "source": []
  },
  {
   "cell_type": "code",
   "execution_count": null,
   "id": "f4803512",
   "metadata": {},
   "outputs": [],
   "source": []
  },
  {
   "cell_type": "code",
   "execution_count": null,
   "id": "59307902",
   "metadata": {},
   "outputs": [],
   "source": []
  },
  {
   "cell_type": "code",
   "execution_count": null,
   "id": "1d5d05bd",
   "metadata": {},
   "outputs": [],
   "source": []
  },
  {
   "cell_type": "code",
   "execution_count": null,
   "id": "be2c334b",
   "metadata": {},
   "outputs": [],
   "source": []
  },
  {
   "cell_type": "code",
   "execution_count": null,
   "id": "a4d0bf77",
   "metadata": {},
   "outputs": [],
   "source": []
  },
  {
   "cell_type": "code",
   "execution_count": null,
   "id": "ffaf9311",
   "metadata": {},
   "outputs": [],
   "source": []
  },
  {
   "cell_type": "code",
   "execution_count": null,
   "id": "b711bb01",
   "metadata": {},
   "outputs": [],
   "source": []
  },
  {
   "cell_type": "code",
   "execution_count": null,
   "id": "bdb20ae9",
   "metadata": {},
   "outputs": [],
   "source": []
  },
  {
   "cell_type": "code",
   "execution_count": null,
   "id": "3e41c4ce",
   "metadata": {},
   "outputs": [],
   "source": []
  },
  {
   "cell_type": "code",
   "execution_count": null,
   "id": "5e45078e",
   "metadata": {},
   "outputs": [],
   "source": []
  },
  {
   "cell_type": "code",
   "execution_count": null,
   "id": "91daabe7",
   "metadata": {},
   "outputs": [],
   "source": []
  },
  {
   "cell_type": "code",
   "execution_count": null,
   "id": "acd95c73",
   "metadata": {},
   "outputs": [],
   "source": []
  },
  {
   "cell_type": "code",
   "execution_count": null,
   "id": "ebb3c751",
   "metadata": {},
   "outputs": [],
   "source": []
  },
  {
   "cell_type": "code",
   "execution_count": null,
   "id": "b75d9f32",
   "metadata": {},
   "outputs": [],
   "source": []
  },
  {
   "cell_type": "code",
   "execution_count": null,
   "id": "489d2825",
   "metadata": {},
   "outputs": [],
   "source": []
  },
  {
   "cell_type": "code",
   "execution_count": null,
   "id": "f0dd2f06",
   "metadata": {},
   "outputs": [],
   "source": []
  },
  {
   "cell_type": "code",
   "execution_count": null,
   "id": "61d0f55d",
   "metadata": {},
   "outputs": [],
   "source": []
  },
  {
   "cell_type": "code",
   "execution_count": null,
   "id": "52242d68",
   "metadata": {},
   "outputs": [],
   "source": []
  },
  {
   "cell_type": "code",
   "execution_count": null,
   "id": "18702dc4",
   "metadata": {},
   "outputs": [],
   "source": []
  },
  {
   "cell_type": "code",
   "execution_count": null,
   "id": "12ada380",
   "metadata": {},
   "outputs": [],
   "source": []
  },
  {
   "cell_type": "code",
   "execution_count": null,
   "id": "39cac3eb",
   "metadata": {},
   "outputs": [],
   "source": []
  },
  {
   "cell_type": "code",
   "execution_count": null,
   "id": "842921a3",
   "metadata": {},
   "outputs": [],
   "source": []
  },
  {
   "cell_type": "code",
   "execution_count": null,
   "id": "d4ef4588",
   "metadata": {},
   "outputs": [],
   "source": []
  },
  {
   "cell_type": "code",
   "execution_count": null,
   "id": "8fbeee35",
   "metadata": {},
   "outputs": [],
   "source": []
  },
  {
   "cell_type": "code",
   "execution_count": null,
   "id": "abc5d4f8",
   "metadata": {},
   "outputs": [],
   "source": []
  },
  {
   "cell_type": "code",
   "execution_count": null,
   "id": "892410d7",
   "metadata": {},
   "outputs": [],
   "source": []
  },
  {
   "cell_type": "code",
   "execution_count": null,
   "id": "ad9495f4",
   "metadata": {},
   "outputs": [],
   "source": []
  },
  {
   "cell_type": "code",
   "execution_count": null,
   "id": "51bfb4b2",
   "metadata": {},
   "outputs": [],
   "source": []
  },
  {
   "cell_type": "code",
   "execution_count": null,
   "id": "e0b62e92",
   "metadata": {},
   "outputs": [],
   "source": []
  },
  {
   "cell_type": "code",
   "execution_count": null,
   "id": "5f45d340",
   "metadata": {},
   "outputs": [],
   "source": []
  },
  {
   "cell_type": "code",
   "execution_count": null,
   "id": "e0b4a87b",
   "metadata": {},
   "outputs": [],
   "source": []
  },
  {
   "cell_type": "code",
   "execution_count": null,
   "id": "95cc9cdf",
   "metadata": {},
   "outputs": [],
   "source": []
  },
  {
   "cell_type": "code",
   "execution_count": null,
   "id": "8eb470f0",
   "metadata": {},
   "outputs": [],
   "source": []
  },
  {
   "cell_type": "code",
   "execution_count": null,
   "id": "4a89ae75",
   "metadata": {},
   "outputs": [],
   "source": []
  },
  {
   "cell_type": "code",
   "execution_count": null,
   "id": "d6681014",
   "metadata": {},
   "outputs": [],
   "source": []
  },
  {
   "cell_type": "code",
   "execution_count": null,
   "id": "8198891e",
   "metadata": {},
   "outputs": [],
   "source": []
  },
  {
   "cell_type": "code",
   "execution_count": null,
   "id": "be2d24bc",
   "metadata": {},
   "outputs": [],
   "source": []
  },
  {
   "cell_type": "code",
   "execution_count": null,
   "id": "15d3b04d",
   "metadata": {},
   "outputs": [],
   "source": []
  },
  {
   "cell_type": "code",
   "execution_count": null,
   "id": "1c833c10",
   "metadata": {},
   "outputs": [],
   "source": []
  },
  {
   "cell_type": "code",
   "execution_count": null,
   "id": "9d89c96f",
   "metadata": {},
   "outputs": [],
   "source": []
  },
  {
   "cell_type": "code",
   "execution_count": null,
   "id": "0b3db942",
   "metadata": {},
   "outputs": [],
   "source": []
  },
  {
   "cell_type": "code",
   "execution_count": null,
   "id": "c35dfc7b",
   "metadata": {},
   "outputs": [],
   "source": []
  },
  {
   "cell_type": "code",
   "execution_count": null,
   "id": "21aa70ee",
   "metadata": {},
   "outputs": [],
   "source": []
  },
  {
   "cell_type": "code",
   "execution_count": null,
   "id": "06dc6e5d",
   "metadata": {},
   "outputs": [],
   "source": []
  },
  {
   "cell_type": "code",
   "execution_count": null,
   "id": "c2f0eecb",
   "metadata": {},
   "outputs": [],
   "source": []
  },
  {
   "cell_type": "code",
   "execution_count": null,
   "id": "647c909b",
   "metadata": {},
   "outputs": [],
   "source": []
  },
  {
   "cell_type": "code",
   "execution_count": null,
   "id": "e1467cc0",
   "metadata": {},
   "outputs": [],
   "source": []
  },
  {
   "cell_type": "code",
   "execution_count": null,
   "id": "a17029df",
   "metadata": {},
   "outputs": [],
   "source": []
  },
  {
   "cell_type": "code",
   "execution_count": null,
   "id": "fe05191d",
   "metadata": {},
   "outputs": [],
   "source": []
  },
  {
   "cell_type": "code",
   "execution_count": null,
   "id": "9c256f48",
   "metadata": {},
   "outputs": [],
   "source": []
  },
  {
   "cell_type": "code",
   "execution_count": null,
   "id": "c9474fc7",
   "metadata": {},
   "outputs": [],
   "source": []
  },
  {
   "cell_type": "code",
   "execution_count": null,
   "id": "fa718610",
   "metadata": {},
   "outputs": [],
   "source": []
  },
  {
   "cell_type": "code",
   "execution_count": null,
   "id": "6fbaa537",
   "metadata": {},
   "outputs": [],
   "source": []
  },
  {
   "cell_type": "code",
   "execution_count": null,
   "id": "1c4dc57e",
   "metadata": {},
   "outputs": [],
   "source": []
  },
  {
   "cell_type": "code",
   "execution_count": null,
   "id": "e816d40a",
   "metadata": {},
   "outputs": [],
   "source": []
  },
  {
   "cell_type": "code",
   "execution_count": null,
   "id": "7fbdaea5",
   "metadata": {},
   "outputs": [],
   "source": []
  },
  {
   "cell_type": "code",
   "execution_count": null,
   "id": "45f90c8b",
   "metadata": {},
   "outputs": [],
   "source": []
  },
  {
   "cell_type": "code",
   "execution_count": null,
   "id": "2a2d5de0",
   "metadata": {},
   "outputs": [],
   "source": []
  },
  {
   "cell_type": "code",
   "execution_count": null,
   "id": "c886b92a",
   "metadata": {},
   "outputs": [],
   "source": []
  },
  {
   "cell_type": "code",
   "execution_count": null,
   "id": "3844103e",
   "metadata": {},
   "outputs": [],
   "source": []
  },
  {
   "cell_type": "code",
   "execution_count": null,
   "id": "28bf9ab6",
   "metadata": {},
   "outputs": [],
   "source": []
  },
  {
   "cell_type": "code",
   "execution_count": null,
   "id": "63406646",
   "metadata": {},
   "outputs": [],
   "source": []
  },
  {
   "cell_type": "code",
   "execution_count": null,
   "id": "cafa3e07",
   "metadata": {},
   "outputs": [],
   "source": []
  },
  {
   "cell_type": "code",
   "execution_count": null,
   "id": "4100ee1d",
   "metadata": {},
   "outputs": [],
   "source": []
  },
  {
   "cell_type": "code",
   "execution_count": null,
   "id": "f38b90b6",
   "metadata": {},
   "outputs": [],
   "source": []
  },
  {
   "cell_type": "code",
   "execution_count": null,
   "id": "dd0213af",
   "metadata": {},
   "outputs": [],
   "source": []
  },
  {
   "cell_type": "code",
   "execution_count": null,
   "id": "4675c57b",
   "metadata": {},
   "outputs": [],
   "source": []
  },
  {
   "cell_type": "code",
   "execution_count": null,
   "id": "033b3324",
   "metadata": {},
   "outputs": [],
   "source": []
  },
  {
   "cell_type": "code",
   "execution_count": null,
   "id": "b845945a",
   "metadata": {},
   "outputs": [],
   "source": []
  },
  {
   "cell_type": "code",
   "execution_count": null,
   "id": "a965669d",
   "metadata": {},
   "outputs": [],
   "source": []
  },
  {
   "cell_type": "code",
   "execution_count": null,
   "id": "17837221",
   "metadata": {},
   "outputs": [],
   "source": []
  },
  {
   "cell_type": "code",
   "execution_count": null,
   "id": "ae9196d4",
   "metadata": {},
   "outputs": [],
   "source": []
  },
  {
   "cell_type": "code",
   "execution_count": null,
   "id": "fe3db24b",
   "metadata": {},
   "outputs": [],
   "source": []
  },
  {
   "cell_type": "code",
   "execution_count": null,
   "id": "bc82f9ba",
   "metadata": {},
   "outputs": [],
   "source": []
  },
  {
   "cell_type": "code",
   "execution_count": null,
   "id": "476974b8",
   "metadata": {},
   "outputs": [],
   "source": []
  },
  {
   "cell_type": "code",
   "execution_count": null,
   "id": "16067867",
   "metadata": {},
   "outputs": [],
   "source": []
  },
  {
   "cell_type": "code",
   "execution_count": null,
   "id": "eff61fa1",
   "metadata": {},
   "outputs": [],
   "source": []
  },
  {
   "cell_type": "code",
   "execution_count": null,
   "id": "73aab1af",
   "metadata": {},
   "outputs": [],
   "source": []
  },
  {
   "cell_type": "code",
   "execution_count": null,
   "id": "cfd40b5f",
   "metadata": {},
   "outputs": [],
   "source": []
  },
  {
   "cell_type": "code",
   "execution_count": null,
   "id": "032fa103",
   "metadata": {},
   "outputs": [],
   "source": []
  },
  {
   "cell_type": "code",
   "execution_count": null,
   "id": "8abfe280",
   "metadata": {},
   "outputs": [],
   "source": []
  },
  {
   "cell_type": "code",
   "execution_count": null,
   "id": "a07fd3fa",
   "metadata": {},
   "outputs": [],
   "source": []
  },
  {
   "cell_type": "code",
   "execution_count": null,
   "id": "a35dfaa2",
   "metadata": {},
   "outputs": [],
   "source": []
  },
  {
   "cell_type": "code",
   "execution_count": null,
   "id": "28b4d29f",
   "metadata": {},
   "outputs": [],
   "source": []
  },
  {
   "cell_type": "code",
   "execution_count": null,
   "id": "061d693e",
   "metadata": {},
   "outputs": [],
   "source": []
  },
  {
   "cell_type": "code",
   "execution_count": null,
   "id": "e7e7cdc0",
   "metadata": {},
   "outputs": [],
   "source": []
  },
  {
   "cell_type": "code",
   "execution_count": null,
   "id": "b90112ea",
   "metadata": {},
   "outputs": [],
   "source": []
  },
  {
   "cell_type": "code",
   "execution_count": null,
   "id": "398b9c45",
   "metadata": {},
   "outputs": [],
   "source": []
  },
  {
   "cell_type": "code",
   "execution_count": null,
   "id": "dd837623",
   "metadata": {},
   "outputs": [],
   "source": []
  },
  {
   "cell_type": "code",
   "execution_count": null,
   "id": "e65b5a35",
   "metadata": {},
   "outputs": [],
   "source": []
  },
  {
   "cell_type": "code",
   "execution_count": null,
   "id": "0228da9c",
   "metadata": {},
   "outputs": [],
   "source": []
  },
  {
   "cell_type": "code",
   "execution_count": null,
   "id": "b3432a8d",
   "metadata": {},
   "outputs": [],
   "source": []
  },
  {
   "cell_type": "code",
   "execution_count": null,
   "id": "a4d6073d",
   "metadata": {},
   "outputs": [],
   "source": []
  },
  {
   "cell_type": "code",
   "execution_count": null,
   "id": "781118f3",
   "metadata": {},
   "outputs": [],
   "source": []
  },
  {
   "cell_type": "code",
   "execution_count": null,
   "id": "ca91b39a",
   "metadata": {},
   "outputs": [],
   "source": []
  },
  {
   "cell_type": "code",
   "execution_count": null,
   "id": "b1f1244e",
   "metadata": {},
   "outputs": [],
   "source": []
  },
  {
   "cell_type": "code",
   "execution_count": null,
   "id": "a0cdb03d",
   "metadata": {},
   "outputs": [],
   "source": []
  },
  {
   "cell_type": "code",
   "execution_count": null,
   "id": "05c296ab",
   "metadata": {},
   "outputs": [],
   "source": []
  },
  {
   "cell_type": "code",
   "execution_count": null,
   "id": "8c329a95",
   "metadata": {},
   "outputs": [],
   "source": []
  },
  {
   "cell_type": "code",
   "execution_count": null,
   "id": "77bfa746",
   "metadata": {},
   "outputs": [],
   "source": []
  },
  {
   "cell_type": "code",
   "execution_count": null,
   "id": "ac3e4c0d",
   "metadata": {},
   "outputs": [],
   "source": []
  },
  {
   "cell_type": "code",
   "execution_count": null,
   "id": "0000059c",
   "metadata": {},
   "outputs": [],
   "source": []
  },
  {
   "cell_type": "code",
   "execution_count": null,
   "id": "45fdcd28",
   "metadata": {},
   "outputs": [],
   "source": []
  },
  {
   "cell_type": "code",
   "execution_count": null,
   "id": "a378ea3f",
   "metadata": {},
   "outputs": [],
   "source": []
  },
  {
   "cell_type": "code",
   "execution_count": null,
   "id": "3a4c127a",
   "metadata": {},
   "outputs": [],
   "source": []
  },
  {
   "cell_type": "code",
   "execution_count": null,
   "id": "2e688904",
   "metadata": {},
   "outputs": [],
   "source": []
  },
  {
   "cell_type": "code",
   "execution_count": null,
   "id": "9227f4c6",
   "metadata": {},
   "outputs": [],
   "source": []
  },
  {
   "cell_type": "code",
   "execution_count": null,
   "id": "5e47c2fd",
   "metadata": {},
   "outputs": [],
   "source": []
  },
  {
   "cell_type": "code",
   "execution_count": null,
   "id": "e841958b",
   "metadata": {},
   "outputs": [],
   "source": []
  },
  {
   "cell_type": "code",
   "execution_count": null,
   "id": "db5cfe4b",
   "metadata": {},
   "outputs": [],
   "source": []
  },
  {
   "cell_type": "code",
   "execution_count": null,
   "id": "868b7c33",
   "metadata": {},
   "outputs": [],
   "source": []
  },
  {
   "cell_type": "code",
   "execution_count": null,
   "id": "9f6d20d4",
   "metadata": {},
   "outputs": [],
   "source": []
  },
  {
   "cell_type": "code",
   "execution_count": null,
   "id": "f393def8",
   "metadata": {},
   "outputs": [],
   "source": []
  },
  {
   "cell_type": "code",
   "execution_count": null,
   "id": "e6452f87",
   "metadata": {},
   "outputs": [],
   "source": []
  },
  {
   "cell_type": "code",
   "execution_count": null,
   "id": "42aa0f61",
   "metadata": {},
   "outputs": [],
   "source": []
  },
  {
   "cell_type": "code",
   "execution_count": null,
   "id": "6a8bed65",
   "metadata": {},
   "outputs": [],
   "source": []
  },
  {
   "cell_type": "code",
   "execution_count": null,
   "id": "419c6097",
   "metadata": {},
   "outputs": [],
   "source": []
  },
  {
   "cell_type": "code",
   "execution_count": null,
   "id": "1ba46f1f",
   "metadata": {},
   "outputs": [],
   "source": []
  },
  {
   "cell_type": "code",
   "execution_count": null,
   "id": "1bd4c0ab",
   "metadata": {},
   "outputs": [],
   "source": []
  },
  {
   "cell_type": "code",
   "execution_count": null,
   "id": "3720e697",
   "metadata": {},
   "outputs": [],
   "source": []
  },
  {
   "cell_type": "code",
   "execution_count": null,
   "id": "31cbf916",
   "metadata": {},
   "outputs": [],
   "source": []
  },
  {
   "cell_type": "code",
   "execution_count": null,
   "id": "d16c1449",
   "metadata": {},
   "outputs": [],
   "source": []
  },
  {
   "cell_type": "code",
   "execution_count": null,
   "id": "dc73ecf1",
   "metadata": {},
   "outputs": [],
   "source": []
  },
  {
   "cell_type": "code",
   "execution_count": null,
   "id": "e0872d03",
   "metadata": {},
   "outputs": [],
   "source": []
  },
  {
   "cell_type": "code",
   "execution_count": null,
   "id": "aeaa9c19",
   "metadata": {},
   "outputs": [],
   "source": []
  }
 ],
 "metadata": {
  "kernelspec": {
   "display_name": "Python 3 (ipykernel)",
   "language": "python",
   "name": "python3"
  },
  "language_info": {
   "codemirror_mode": {
    "name": "ipython",
    "version": 3
   },
   "file_extension": ".py",
   "mimetype": "text/x-python",
   "name": "python",
   "nbconvert_exporter": "python",
   "pygments_lexer": "ipython3",
   "version": "3.9.7"
  }
 },
 "nbformat": 4,
 "nbformat_minor": 5
}
